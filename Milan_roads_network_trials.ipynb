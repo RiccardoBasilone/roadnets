{
 "cells": [
  {
   "cell_type": "markdown",
   "id": "b90126d5-9236-47a4-b1c0-daf3fd71eb61",
   "metadata": {},
   "source": [
    "# ToDo: \n",
    "- criticality of intersections. should all of them be nodes?\n",
    "- try building network without OSM data [done]\n",
    "- add coordinates to nodes to plot the network?\n",
    "- try building network with OSM data (first,requires I add width to OSM data)\n",
    "- create network of all roads, with weights\n",
    "- investigate algorithm for filling up links randomly with weight threshold"
   ]
  },
  {
   "cell_type": "markdown",
   "id": "4bda74bf-63b3-414a-9d6f-707e0d4590b0",
   "metadata": {},
   "source": [
    "# Road network of Milan"
   ]
  },
  {
   "cell_type": "code",
   "execution_count": null,
   "id": "256734d7-bd17-48d7-b632-829d6f0bc3e4",
   "metadata": {},
   "outputs": [],
   "source": [
    "import numpy as np\n",
    "import pandas as pd\n",
    "import geopandas as gpd\n",
    "import contextily as cx\n",
    "import matplotlib.pyplot as plt\n",
    "import networkx as nx"
   ]
  },
  {
   "cell_type": "code",
   "execution_count": null,
   "id": "9f2d99c5-4014-472b-a8cf-ea1ad0e8f1ec",
   "metadata": {},
   "outputs": [],
   "source": [
    "vehicle_path = \"C:/Users/rickb/Documents/scuola/THESIS/datasets/Milan/DBT_2020/SHAPE/AC_VEI_AC_VEI_SUP_SR.shp\"\n",
    "gdf = gpd.read_file(vehicle_path)"
   ]
  },
  {
   "cell_type": "code",
   "execution_count": null,
   "id": "423d7fe4-2b8e-4f06-bef4-339b97a14c57",
   "metadata": {},
   "outputs": [],
   "source": [
    "gdf.drop(['AC_VEI_FON', 'AC_VEI_LIV', 'AC_VEI_SED', 'CLASSREF'],axis = 1, inplace = True)\n",
    "gdf.rename(columns={'SUBREGID':'ID', 'NOME': 'NAME', 'AC_VEI_ZON': 'TYPE'}, inplace = True)"
   ]
  },
  {
   "cell_type": "code",
   "execution_count": null,
   "id": "7ee3c5a1-c689-4c39-99a3-86174a1b39f3",
   "metadata": {},
   "outputs": [],
   "source": [
    "gdf_tot = gdf.copy()"
   ]
  },
  {
   "cell_type": "code",
   "execution_count": null,
   "id": "7744baea-bc8a-47d6-93cd-f9839798a188",
   "metadata": {},
   "outputs": [],
   "source": [
    "pattern1 = ('01','02')\n",
    " # portions of road (e.g not intersections or parking lots) start with 01 in TYPE\n",
    " # intersections, squares, and roundabouts start with 02 in TYPE\n",
    "gdf_tot = gdf_tot[~gdf_tot['NAME'].str.contains('TANGENZIALE', regex = False)] #removing tangenziali\n",
    "gdf_tot = gdf_tot[gdf_tot.TYPE.str.startswith(pattern1)]"
   ]
  },
  {
   "cell_type": "markdown",
   "id": "55ab757b-c6ad-48d5-bbf4-9f0183ad014c",
   "metadata": {
    "editable": true,
    "slideshow": {
     "slide_type": ""
    },
    "tags": []
   },
   "source": [
    "## Areas and perimeters of streets\n",
    "We now try to plot areas and perimeters of streets, with and without using the simplify method to see if there are significant differences between the two.\n",
    "our variables are gdf_roads, gdf_piaz, gdf_round, or all together in gdf_roads_piaz.\n"
   ]
  },
  {
   "cell_type": "markdown",
   "id": "a4523771-371e-4c09-86a9-38cf11afde45",
   "metadata": {},
   "source": [
    "NB for the moment we're excluding tangenziali because some of the blocks are very large and make visualization difficult"
   ]
  },
  {
   "cell_type": "code",
   "execution_count": null,
   "id": "50939c54-0a0d-45b1-a321-cfcc76bf278a",
   "metadata": {},
   "outputs": [],
   "source": [
    "OSM_crs = 3857\n",
    "gdf_tot.to_crs(epsg=OSM_crs, inplace = True)\n",
    "\n",
    "gdf_tot['Perimeter'] = gdf_tot.length\n",
    "gdf_tot['Area'] = gdf_tot.area"
   ]
  },
  {
   "cell_type": "markdown",
   "id": "1dad3f69-7251-4441-a168-e4b1b927957c",
   "metadata": {},
   "source": [
    "### Average width calculation: \n",
    "Area is length times width for rectangles\n",
    "Perimeter is 2(length) + 2(width)\n",
    "$A = lw$\n",
    "$P = 2l+2w$\n",
    "brings us to solve for width as   \n",
    "\n",
    "$P = 2\\frac{A}{w}+2w$ \n",
    "so  \n",
    "$w^2 -\\frac{P}{2}w+A = 0$"
   ]
  },
  {
   "cell_type": "code",
   "execution_count": null,
   "id": "c5150d05-cb47-4cca-9759-8f445e8e9a9c",
   "metadata": {},
   "outputs": [],
   "source": [
    "gdf_tot['temp'] = gdf_tot.Area/gdf_tot.Area # create column of ones\n",
    "gdf_tot['SemiPeri'] = -gdf_tot.Perimeter/2 # i need it negative for the equation\n",
    "\n",
    "def calculate_roots(row):\n",
    "    coefficients = row[['temp', 'SemiPeri', 'Area']].values\n",
    "    roots = np.roots(coefficients).real\n",
    "    return roots\n",
    "\n",
    "#gdf_tot['roots'] = gdf_tot.apply(calculate_roots, axis=1)\n",
    "gdf_tot['roots'] = gdf_tot[['temp', 'SemiPeri', 'Area']].apply(calculate_roots, axis=1)\n",
    "gdf_tot[['root1', 'root2']] = pd.DataFrame(gdf_tot['roots'].tolist(), index=gdf_tot.index)\n",
    "gdf_tot['width'] = gdf_tot['root2']\n",
    "gdf_tot = gdf_tot.drop(['Perimeter', 'Area', 'temp', 'SemiPeri', 'roots', 'root2'], axis = 1)"
   ]
  },
  {
   "cell_type": "markdown",
   "id": "ff862579-e604-41b1-b344-2d136683606b",
   "metadata": {},
   "source": [
    "NB with this method root2 is always the width because all segments of road are longer than they are wide, and root2 is always the smaller of the two roots, by construction of the method. at most there can be entries where root1=root2, which would mean that they both equal the width."
   ]
  },
  {
   "cell_type": "markdown",
   "id": "cddbe926-6967-47f0-a94f-03c96dbca617",
   "metadata": {},
   "source": [
    "## dividing by zones with sjoin\n",
    "let's try and get a better division into zones, to have more in depth plots"
   ]
  },
  {
   "cell_type": "code",
   "execution_count": null,
   "id": "fefa7c2f-3bc0-4f59-8eeb-189ca80a0bce",
   "metadata": {},
   "outputs": [],
   "source": [
    "from geopandas.tools import sjoin"
   ]
  },
  {
   "cell_type": "code",
   "execution_count": null,
   "id": "92170fba-ac38-4fca-85c7-e6284df56801",
   "metadata": {},
   "outputs": [],
   "source": [
    "administrative_path = \"C:/Users/rickb/Documents/scuola/THESIS/datasets/Milan/DBT_2020_new/DBT 2020 - SHAPE/Municipi.shp\"\n",
    "gdf2 = gpd.read_file(administrative_path)\n",
    "gdf2 = gdf2.to_crs(epsg = OSM_crs)\n",
    "\n",
    "gdf_zone_tot = gdf_tot.sjoin(gdf2, how = 'inner',predicate = 'intersects') # requires gpd > 0.9\n",
    "#gdf_zone = gpd.sjoin(gdf_roads_piaz, gdf2, how = 'inner', op = 'intersects') #is equivalent, with older syntax\n",
    "gdf_zone_tot = gdf_zone_tot.drop(['AREA', 'PERIMETRO', 'index_right'], axis =1)"
   ]
  },
  {
   "cell_type": "code",
   "execution_count": null,
   "id": "01581c94-b6db-40de-bcd7-70b94ea35dea",
   "metadata": {},
   "outputs": [],
   "source": [
    "neighborhood_path = \"C:/Users/rickb/Documents/scuola/THESIS/datasets/Milan/Quartieri milano_real/NIL_WM.shp\"\n",
    "gdf_N = gpd.read_file(neighborhood_path)\n",
    "gdf_N = gdf_N.to_crs(epsg = OSM_crs)\n",
    "gdf_N = gdf_N.drop(['Valido_dal', 'Fonte', 'Shape_Leng', 'Shape_Area', 'OBJECTID', 'Valido_al'] ,axis=1)\n",
    "\n",
    "\n",
    "gdf_N_tot = gdf_zone_tot.sjoin(gdf_N, how = 'inner',predicate = 'intersects')\n",
    "gdf_N_tot = gdf_N_tot.drop(['index_right'], axis = 1)\n"
   ]
  },
  {
   "cell_type": "markdown",
   "id": "395701e3-9df9-44c0-b333-ab3e9502b40c",
   "metadata": {},
   "source": [
    "Finally, let's split our main dataframe into two: one with only roads, and one with only intersections."
   ]
  },
  {
   "cell_type": "code",
   "execution_count": null,
   "id": "865a3c8b-deb5-4baf-9431-87ac607ebea5",
   "metadata": {},
   "outputs": [],
   "source": [
    "pattern2 = ('01')\n",
    "pattern3 = ('02') \n",
    "gdf_no_int = gdf_N_tot[gdf_tot.TYPE.str.startswith(pattern2)]\n",
    "gdf_int = gdf_N_tot[gdf_tot.TYPE.str.startswith(pattern3)]"
   ]
  },
  {
   "cell_type": "code",
   "execution_count": null,
   "id": "4c5de3ba-2bd0-48f5-8216-1db3976f9d3b",
   "metadata": {},
   "outputs": [],
   "source": [
    "#Now isolate an example neighborhood\n",
    "gdf_N_Stadera = gdf_N_tot[gdf_N_tot['NIL'] == 'STADERA - CHIESA ROSSA - Q.RE TORRETTA - CONCA FALLATA']\n",
    "gdf_int_Stadera = gdf_int[gdf_int['NIL'] == 'STADERA - CHIESA ROSSA - Q.RE TORRETTA - CONCA FALLATA']\n",
    "gdf_no_int_Stadera = gdf_no_int[gdf_no_int['NIL'] == 'STADERA - CHIESA ROSSA - Q.RE TORRETTA - CONCA FALLATA']\n",
    "#and a single street in that neighborhood\n",
    "gdf_N_Volv = gdf_N_Stadera[gdf_N_Stadera['NAME'] == 'VIA VOLVINIO']\n",
    "gdf_no_int_Volv = gdf_no_int[gdf_no_int['NAME'] == 'VIA VOLVINIO']\n",
    "gdf_int_Volv = gdf_int[gdf_int['NAME'] == 'VIA VOLVINIO']\n"
   ]
  },
  {
   "cell_type": "markdown",
   "id": "f89a1e14-7701-4875-a91b-3e796dfcf86b",
   "metadata": {},
   "source": [
    "Here's an example plot of a neighborhood:"
   ]
  },
  {
   "cell_type": "code",
   "execution_count": null,
   "id": "12c04ec0-0228-4779-954e-b23edada2de4",
   "metadata": {},
   "outputs": [],
   "source": [
    "fig, ax = plt.subplots(1,1, figsize = (8,8))\n",
    "gdf_N_Stadera.plot(ax = ax, alpha = 0.5)\n",
    "cx.add_basemap(ax, crs=gdf_N.crs, zoom = 15, source=cx.providers.CartoDB.Positron) #providers.Esri.WorldImagery for satellite\n",
    "#source=cx.providers.CartoDB.Positron)\n",
    "plt.title(\"The Stadera Neighborhood of Milan\")\n",
    "plt.show()"
   ]
  },
  {
   "cell_type": "markdown",
   "id": "9290bc75-a9fe-47d6-b539-cbb0a519f371",
   "metadata": {},
   "source": [
    "## Creating custom ranges by distance\n",
    "\n",
    "Here's a function to create a Geodataframe with all roads within a given distance from the road given as input"
   ]
  },
  {
   "cell_type": "code",
   "execution_count": null,
   "id": "d7302e4b-0924-413c-a482-1a2bf0007d54",
   "metadata": {},
   "outputs": [],
   "source": [
    "def within_dist(street, dist, gdf):\n",
    "    #function creates geodataframe with all streets of gdf within distance dist (in meters) of street.\n",
    "    #street is a geodataframe, dist is a positive number, and gdf is the geodataframe dataset.\n",
    "    temp = street.copy()\n",
    "    temp.geometry = temp.geometry.buffer(dist)\n",
    "    temp = temp.filter(['geometry']) #so sjoin doesn't give suffixes and i don't have to rename later\n",
    "    gdf_distanced = gdf.sjoin(temp, how='inner', predicate='intersects')\n",
    "    gdf_distanced = gdf_distanced.dropna()\n",
    "    gdf_distanced = gdf_distanced.drop_duplicates(subset=['width'], keep='first') #removes streets within 2 buffers of a polygon\n",
    "    gdf_distanced = gdf_distanced.iloc[:,:-1] #drops index_R column\n",
    "    return gdf_distanced"
   ]
  },
  {
   "cell_type": "code",
   "execution_count": null,
   "id": "caeabfe6-97e3-4591-ac49-201ddc837c31",
   "metadata": {},
   "outputs": [],
   "source": [
    "M = 100\n",
    "gdf_test = within_dist(gdf_N_Volv, M, gdf_tot)\n"
   ]
  },
  {
   "cell_type": "code",
   "execution_count": null,
   "id": "350bf4ee-144f-4d92-a400-2c7882906494",
   "metadata": {},
   "outputs": [],
   "source": [
    "fig, ax = plt.subplots(1,1, figsize = (8,8))\n",
    "\n",
    "gdf_test.plot(ax = ax, alpha = 0.5)\n",
    "cx.add_basemap(ax, crs=gdf_N.crs, zoom = 15, source=cx.providers.CartoDB.Positron) #providers.Esri.WorldImagery for satellite\n",
    "plt.title(f\"roads within {M} meters from Via Volvinio\")\n",
    "plt.show()"
   ]
  },
  {
   "cell_type": "markdown",
   "id": "802ec216-ba69-455f-8c97-8474ebb419b3",
   "metadata": {},
   "source": [
    "Let's try to plot roads color coding by width"
   ]
  },
  {
   "cell_type": "code",
   "execution_count": null,
   "id": "1692ee28-0356-4536-b58f-897a4b3c340b",
   "metadata": {},
   "outputs": [],
   "source": [
    "fig, ax = plt.subplots(1,1, figsize=(8,8))\n",
    "gdf_test.plot(ax = ax, cmap = 'viridis', column = 'width', legend = True, vmin = 1, vmax = 30 )\n",
    "cx.add_basemap(ax, crs=gdf_test.crs, source=cx.providers.Esri.WorldImagery, alpha =0.3) #providers.Esri.WorldImagery for satellite\n",
    "plt.title(f\"roads within {M} meters from Via Volvinio \\n color coded by width\")\n",
    "plt.show()"
   ]
  },
  {
   "cell_type": "markdown",
   "id": "c26ce9ff-46f8-4c49-9694-02156ca628b1",
   "metadata": {},
   "source": [
    "# The Network\n",
    "It should be pretty straightforward: make intersections the nodes, and make roads the edges. road width are the weights. \n",
    "However, there is a problem with what exactly it means to be an intersection.\n",
    "NB for now we will consider all streets in the manner which is most convenient, i.e as two-way streets, unless otherwise specified.\n",
    "### Examining intersections\n",
    "Let's examine the case of a relatively simple street, Via Volvinio\n",
    "\n"
   ]
  },
  {
   "cell_type": "code",
   "execution_count": null,
   "id": "2053e0f5-eb80-4070-b34f-69a4c797858c",
   "metadata": {},
   "outputs": [],
   "source": [
    "fig, ax = plt.subplots(1,1, figsize = (6,6))\n",
    "\n",
    "gdf_no_int_Volv.plot(ax = ax, alpha = 0.5)\n",
    "cx.add_basemap(ax, crs=gdf_N.crs, zoom = 17, source=cx.providers.CartoDB.Positron) #providers.Esri.WorldImagery for satellite\n",
    "plt.show()"
   ]
  },
  {
   "cell_type": "markdown",
   "id": "c888e1c0-6f2c-4de6-9a4e-a597be9074c0",
   "metadata": {},
   "source": [
    "The upper part of the street divides in two, because of a barrier, then there is a blank space (considered an intersection), even though the road continues onwards without being intersected. how should this be considered? a new node seems excessive, but then what can we do? maybe after the fact i can say that that node must be eliminated since it connects to only two roads, one of which with a double connection?"
   ]
  },
  {
   "cell_type": "code",
   "execution_count": null,
   "id": "71e09d0d-e615-48bc-af87-98434afa4681",
   "metadata": {},
   "outputs": [],
   "source": [
    "fig, ax = plt.subplots(1,1, figsize = (6,6))\n",
    "\n",
    "gdf_N_Volv.plot(ax = ax, column = 'TYPE', alpha = 0.5)\n",
    "cx.add_basemap(ax, crs=gdf_N.crs, zoom = 17, source=cx.providers.CartoDB.Positron) #providers.Esri.WorldImagery for satellite\n",
    "plt.show()"
   ]
  },
  {
   "cell_type": "markdown",
   "id": "2e502bd9-49f3-4465-b0a9-b4c2ee35ca7d",
   "metadata": {},
   "source": [
    "According to our pdf document, 0205 corresponds to \"incrocio\". I guess it's ok to consider it as such."
   ]
  },
  {
   "cell_type": "markdown",
   "id": "af68d3b5-f815-480b-bf82-8a8cb3c8ee3f",
   "metadata": {},
   "source": [
    "## Actually trying to create the network"
   ]
  },
  {
   "cell_type": "markdown",
   "id": "e1889000-6911-4e55-bc89-3df286d4c77d",
   "metadata": {},
   "source": [
    "remember, my network has:\n",
    "- intersections as nodes.\n",
    "- the actual roads as edges.\n",
    "- their width and name will be weights/edge attributes.\n"
   ]
  },
  {
   "cell_type": "markdown",
   "id": "6c7a67c3-822e-4a8e-8344-0c45fce0d1a3",
   "metadata": {},
   "source": [
    "To find the edges of the network, we take an intersection and use the within_dist function with a distance = 1 to find\n",
    "all roads that are immediately adjacent to the intersection. \n",
    "These are the \"stubs\" of our graph, i.e lines that connect to a node and nothing else.  \n",
    "When we do this for all intersection, the edges of the network will simply be the common stubs between pairs of nodes.  \n",
    "Our road network will be a MultiGraph, because some intersections may be connected by two or more different roads."
   ]
  },
  {
   "cell_type": "code",
   "execution_count": null,
   "id": "811f9b7a-cf68-46f5-9ac8-a3ca6a33726d",
   "metadata": {},
   "outputs": [],
   "source": [
    "#we define a variation of the within_dist function. This one keeps duplicate entries because they are useful for finding stubs.\n",
    "\n",
    "def within_dist_dupes(street, dist, gdf):\n",
    "    #function creates geodataframe with all streets of gdf within distance dist (in meters) of street.\n",
    "    #street is a geodataframe, dist is a positive number, and gdf is the geodataframe dataset.\n",
    "    temp = street.copy()\n",
    "    temp.geometry = temp.geometry.buffer(dist)\n",
    "    temp = temp.filter(['geometry']) #so sjoin doesn't give suffixes and i don't have to rename later\n",
    "    gdf_distanced = gdf.sjoin(temp, how='inner', predicate='intersects')\n",
    "    gdf_distanced = gdf_distanced.dropna()\n",
    "    return gdf_distanced"
   ]
  },
  {
   "cell_type": "markdown",
   "id": "41781771-386a-4d2f-bdf2-ed03eb759f47",
   "metadata": {},
   "source": [
    "This function is only called on dataframes with indexes from 0 to N.  \n",
    "When we sjoin an intersection with its surrounding streets, our resulting dataframe will tell us, in each row, the index of the intersection\n",
    "that the given road is adjacent to. this information will be contained in \"index_right\", which is the new name given to what was the intersection index in the original dataframe.  \n",
    "\n",
    "This means each row of our sjoined dataframe represents a stub of the node \"index_right\".  \n",
    "\n",
    "\n",
    "We divide into N dataframes based on index_right, to have a dataframe of the adjacent edges to one road (i.e the stubs).   \n",
    "there is a connection between dataframe_i and dataframe_j for each common stub between the two.  \n",
    "\n",
    "Finally, the function that performs these operations and finds the connections is the following:"
   ]
  },
  {
   "cell_type": "code",
   "execution_count": null,
   "id": "b835fb88-a947-4051-8522-64c609eaaf7c",
   "metadata": {},
   "outputs": [],
   "source": [
    "def make_edges(gdf_tot):\n",
    "    #takes dataset with roads and intersections, creates edgelist of nodes with weights of edges\n",
    "    pattern1, pattern2 = '01', '02'\n",
    "    no_ints = gdf_tot[gdf_tot.TYPE.str.startswith(pattern1)]\n",
    "    ints = gdf_tot[gdf_tot.TYPE.str.startswith(pattern2)]\n",
    "    #we need indices from 0 --> reset\n",
    "    ints.reset_index(inplace = True, drop = True)\n",
    "    no_ints.reset_index(inplace = True, drop = True)\n",
    "    stubs = within_dist_dupes(ints, 1, no_ints) #all stubs, i.e all roads connected to all nodes\n",
    "    grouped = stubs.groupby('index_right') #one dataframe for each node\n",
    "    edges = {} # will contain intersections of each node \n",
    "    edge_list = pd.DataFrame(columns = ['from','to','weight'])\n",
    "    for node, group in grouped:\n",
    "        stubs = stubs[stubs['index_right'] != node] #removing \"self\" from gdf that we will merge onto, to avoid self connections. also removes redundancies  \n",
    "        edges[node] = pd.merge(group,stubs, on = 'ID', how = 'inner')\n",
    "        edge_list_temp = pd.DataFrame({'from': edges[node].index_right_x, 'to': edges[node].index_right_y, 'weight': edges[node].width_x})\n",
    "        edge_list = pd.concat([edge_list,edge_list_temp])\n",
    "    return edge_list\n",
    "#now edges should be a dictionary where each key will have only the nodes it is connected to as values.\n",
    "#the final step would be to make a list where each key is "
   ]
  },
  {
   "cell_type": "code",
   "execution_count": null,
   "id": "98e774e2-9ee4-46fd-a2df-2679f673c114",
   "metadata": {},
   "outputs": [],
   "source": [
    "edge_list_t = make_edges(gdf_N_Stadera)\n",
    "G = nx.from_pandas_edgelist(edge_list_t, 'from', 'to', edge_attr=[\"weight\"] , create_using=nx.MultiGraph())"
   ]
  },
  {
   "cell_type": "code",
   "execution_count": null,
   "id": "dc41fcb5-d2b5-4771-8c12-d694b79f79b6",
   "metadata": {},
   "outputs": [],
   "source": [
    "edge_list_t.head(-10) "
   ]
  },
  {
   "cell_type": "markdown",
   "id": "28279bf1-d3a9-49ae-90b3-1197c7bb129c",
   "metadata": {},
   "source": [
    "The first two nodes have several connections to a single other node because they are kind of strange, peripheral roads.  \n",
    "I don't think this is a problem in general, considering most roads are well behaved."
   ]
  },
  {
   "cell_type": "code",
   "execution_count": null,
   "id": "5d1b3ea2-55f9-49a1-8ae8-63ab7228710f",
   "metadata": {},
   "outputs": [],
   "source": [
    "temp = gdf_N_Stadera[gdf_N_Stadera.NAME == 'VIA DEL MARE']\n",
    "t = within_dist(temp, 5, gdf_N_Stadera)\n",
    "fig, ax = plt.subplots(1,1, figsize = (6,6))\n",
    "t.plot(ax = ax, column = 'NAME', alpha = 0.5)\n",
    "cx.add_basemap(ax, crs=gdf_N.crs, zoom = 16, source=cx.providers.CartoDB.Positron) #providers.Esri.WorldImagery for satellite\n",
    "plt.title('roads with multiple connections between each other')\n",
    "plt.show()"
   ]
  },
  {
   "cell_type": "code",
   "execution_count": null,
   "id": "f1d6c14a-e36d-43fc-ab5b-d9d71d0d57a1",
   "metadata": {},
   "outputs": [],
   "source": [
    "pos = nx.random_layout(G)\n",
    "nx.draw_networkx_nodes(G, pos, node_color = 'r', node_size = 100, alpha = 1)\n",
    "ax = plt.gca()\n",
    "for e in G.edges:\n",
    "    ax.annotate(\"\",\n",
    "                xy=pos[e[0]], xycoords='data',\n",
    "                xytext=pos[e[1]], textcoords='data',\n",
    "                arrowprops=dict(arrowstyle=\"-\", color=\"0.5\",\n",
    "                                shrinkA=5, shrinkB=5,\n",
    "                                patchA=None, patchB=None,\n",
    "                                connectionstyle=\"arc3,rad=rrr\".replace('rrr',str(0.3*e[2])\n",
    "                                ),\n",
    "                                ),\n",
    "                )\n",
    "plt.axis('off')\n",
    "plt.show()"
   ]
  },
  {
   "cell_type": "markdown",
   "id": "8df60b1a-f2e5-499f-9961-aa05d3656906",
   "metadata": {},
   "source": [
    "# Network with OSMnx package\n",
    "\n",
    "to be completed"
   ]
  },
  {
   "cell_type": "code",
   "execution_count": null,
   "id": "085678ce-0078-42d1-ba26-41e005305993",
   "metadata": {},
   "outputs": [],
   "source": []
  }
 ],
 "metadata": {
  "kernelspec": {
   "display_name": "Python 3 (ipykernel)",
   "language": "python",
   "name": "python3"
  },
  "language_info": {
   "codemirror_mode": {
    "name": "ipython",
    "version": 3
   },
   "file_extension": ".py",
   "mimetype": "text/x-python",
   "name": "python",
   "nbconvert_exporter": "python",
   "pygments_lexer": "ipython3",
   "version": "3.12.1"
  }
 },
 "nbformat": 4,
 "nbformat_minor": 5
}
