{
 "cells": [
  {
   "cell_type": "markdown",
   "id": "3b29beea-7b5f-45e7-82fd-bb3ba21049a7",
   "metadata": {},
   "source": [
    "# Network creation trials\n",
    "\n",
    "notebook focused on creating graph from our dataset. after defining the functions we'll use, we show a toy model of a couple streets, then we show the network of the entire dataset, and finally the entire dataset minus TANGENZIALI and large adjacent roads."
   ]
  },
  {
   "cell_type": "markdown",
   "id": "1c8926ba-f492-44f9-9233-a23d08b2aea5",
   "metadata": {},
   "source": [
    "### Imports and function definitions"
   ]
  },
  {
   "cell_type": "code",
   "execution_count": null,
   "id": "d9f36d66-1d64-46a4-8e24-c9c7c800feb6",
   "metadata": {},
   "outputs": [],
   "source": [
    "import numpy as np\n",
    "import pandas as pd\n",
    "import geopandas as gpd\n",
    "import contextily as cx\n",
    "import matplotlib.pyplot as plt\n",
    "import networkx as nx"
   ]
  },
  {
   "cell_type": "code",
   "execution_count": null,
   "id": "e5aab17f-63b1-47a6-9913-199c6dee571d",
   "metadata": {},
   "outputs": [],
   "source": [
    "#retrieve the dataset\n",
    "import os\n",
    "import zipfile\n",
    "cwd = os.getcwd()\n",
    "dataname = 'dataset_vehicles'\n",
    "if os.path.exists(dataname):\n",
    "    vehicle_path = dataname + '/dataset_vehicles/AC_VEI_AC_VEI_SUP_SR.shp'\n",
    "else:\n",
    "    !wget -nv -O dataset_vehicles.zip https://github.com/RiccardoBasilone/roadnets/raw/master/dataset_vehicles.zip -nc\n",
    "    zip_filename = 'dataset_vehicles.zip'\n",
    "    extract_dir = './dataset_vehicles'\n",
    "    with zipfile.ZipFile(zip_filename, 'r') as zip_ref:\n",
    "        zip_ref.extractall(extract_dir)\n",
    "\n",
    "    vehicle_path = os.path.join(cwd,'dataset_vehicles/dataset_vehicles/AC_VEI_AC_VEI_SUP_SR.shp')"
   ]
  },
  {
   "cell_type": "code",
   "execution_count": null,
   "id": "09c90370-4009-4e41-b216-1c1a5bdc2ef9",
   "metadata": {},
   "outputs": [],
   "source": [
    "gdf = gpd.read_file(vehicle_path)"
   ]
  },
  {
   "cell_type": "code",
   "execution_count": null,
   "id": "164b421c-f41f-451d-acd2-b8c77958173f",
   "metadata": {},
   "outputs": [],
   "source": [
    "#initial cleaning \n",
    "\n",
    "gdf.drop(['AC_VEI_FON', \n",
    "          #'AC_VEI_LIV', 'AC_VEI_SED', \n",
    "          'CLASSREF'],axis = 1, inplace = True)\n",
    "gdf.rename(columns={'SUBREGID':'ID', 'NOME': 'NAME', 'AC_VEI_ZON': 'TYPE'}, inplace = True)\n",
    "\n",
    "# portions of road (e.g not intersections or parking lots) start with 01 in TYPE\n",
    "# intersections, squares, and roundabouts start with 02 in TYPE\n",
    "\n",
    "#gdf = gdf[~gdf['NAME'].str.contains('TANGENZIALE', regex = False)] #removing tangenziali\n",
    "pattern1 = ('01','02')\n",
    "gdf = gdf.loc[gdf.TYPE.str.startswith(pattern1)]"
   ]
  },
  {
   "cell_type": "code",
   "execution_count": null,
   "id": "d1b11f47-2eeb-415b-8960-583bf6cf9bb0",
   "metadata": {},
   "outputs": [],
   "source": [
    "#we use openstreetmap crs, because it's a common projected (not geographic) CRS --> useful for calculating distances\n",
    "OSM_crs = 3857\n",
    "gdf.to_crs(epsg=OSM_crs, inplace = True)"
   ]
  },
  {
   "cell_type": "code",
   "execution_count": null,
   "id": "8301bc09-cc55-4377-bf24-d96390d4f588",
   "metadata": {},
   "outputs": [],
   "source": [
    "#divides gdf into intersections and roads\n",
    "\n",
    "def ints_and_roads(gdf):\n",
    "\n",
    "    pattern2 = ('01')\n",
    "    pattern3 = ('02') \n",
    "    pattern4 = ('0102') \n",
    "    roads = gdf.loc[(gdf.TYPE.str.startswith(pattern2)) #& ~ (gdf.TYPE.str.startswith(pattern4))\n",
    "    ]\n",
    "    ints = gdf.loc[(gdf.TYPE.str.startswith(pattern3)) #| (gdf.TYPE.str.startswith(pattern4))\n",
    "    ]\n",
    "    return ints, roads"
   ]
  },
  {
   "cell_type": "code",
   "execution_count": null,
   "id": "3e26fa1b-5e7e-42cd-9ba5-e054265a332b",
   "metadata": {},
   "outputs": [],
   "source": [
    "#function creates geodataframe with all streets of gdf within distance dist (in meters) of street.\n",
    "#street is a geodataframe, dist is a positive number, and gdf is the geodataframe dataset.\n",
    "\n",
    "def within_dist(street, dist, gdf):\n",
    "\n",
    "    temp = street.copy()\n",
    "    temp.geometry = temp.geometry.buffer(dist)\n",
    "    temp = temp.filter(['geometry']) #so sjoin doesn't give suffixes and i don't have to rename later\n",
    "    gdf_distanced = gdf.sjoin(temp, how='inner', predicate='intersects')\n",
    "    gdf_distanced = gdf_distanced.dropna()\n",
    "    gdf_distanced = gdf_distanced[~gdf_distanced.index.duplicated(keep='first')] #removes streets that are in more than one polygon's buffer\n",
    "    gdf_distanced = gdf_distanced.iloc[:,:-1] #drops index_R column\n",
    "    return gdf_distanced"
   ]
  },
  {
   "cell_type": "code",
   "execution_count": null,
   "id": "b180f7be-9b73-4268-904f-a56129c98e29",
   "metadata": {},
   "outputs": [],
   "source": [
    "#we define a variation of the within_dist function. This one keeps duplicate entries because they are useful for creating the graph later on.\n",
    "\n",
    "def within_dist_dupes(street, dist, gdf):\n",
    "\n",
    "    temp = street.copy()\n",
    "    temp.geometry = temp.geometry.buffer(dist)\n",
    "    temp = temp.filter(['geometry']) #so sjoin doesn't give suffixes and i don't have to rename later\n",
    "    gdf_distanced = gdf.sjoin(temp, how='inner', predicate='intersects')\n",
    "    gdf_distanced = gdf_distanced.dropna()\n",
    "    return gdf_distanced"
   ]
  },
  {
   "cell_type": "code",
   "execution_count": null,
   "id": "36f76ce7-6912-47c3-9b78-84ec861c41e9",
   "metadata": {},
   "outputs": [],
   "source": [
    "#calculates width of all entries in gdf, and adds them to a width column. Assumes rectangular equivalent shape for polygons\n",
    "\n",
    "def calc_widths(gdf):\n",
    "    gdf['temp'] = 1 # create column of ones\n",
    "    gdf['SemiPeri'] = -gdf.length/2 # i need it negative for the equation\n",
    "    gdf['Area'] = gdf.area\n",
    "    def calculate_roots(row):\n",
    "        coefficients = row[['temp', 'SemiPeri', 'Area']].values\n",
    "        roots = np.roots(coefficients).real\n",
    "        return roots\n",
    "\n",
    "    #gdf['roots'] = gdf.apply(calculate_roots, axis=1)\n",
    "    gdf['roots'] = gdf[['temp', 'SemiPeri', 'Area']].apply(calculate_roots, axis=1)\n",
    "    gdf[['root1', 'root2']] = pd.DataFrame(gdf['roots'].tolist(), index=gdf.index)\n",
    "    gdf['width'] = gdf['root2']\n",
    "    gdf = gdf.drop([ 'Area', 'temp', 'SemiPeri', 'roots', 'root2'], axis = 1)\n",
    "    return gdf"
   ]
  },
  {
   "cell_type": "code",
   "execution_count": null,
   "id": "d792e773-a0a5-4155-9504-f6b50eb3b104",
   "metadata": {},
   "outputs": [],
   "source": [
    "#takes gdf, finds adjacent roads and dissolves them into one\n",
    "def dissolver(gdf):\n",
    "\n",
    "    #divide intersections and roads\n",
    "        ints, roads = ints_and_roads(gdf)\n",
    "    \n",
    "    #gives adjacency for roads of gdf\n",
    "        adj = within_dist_dupes(roads,0.1,roads)\n",
    "    \n",
    "    #remove self connections and islands (speeds up execution significantly)\n",
    "        adj = adj[adj.index_right != adj.index]\n",
    "\n",
    "    #create network to find connected components\n",
    "        edge_list = pd.DataFrame(zip(adj.index, adj.index_right), columns = ['from', 'to'])\n",
    "        G = nx.from_pandas_edgelist(edge_list, 'from', 'to' , create_using=nx.MultiGraph())\n",
    "\n",
    "    #store connected components in dictionary\n",
    "        mylist = sorted(nx.connected_components(G), key = len, reverse = True)\n",
    "        mydict = {i: val for i, val in enumerate(mylist)}\n",
    "    \n",
    "    #if index of gdf is in dict, tag it with the key of the dict. if not, tag it with itself\n",
    "        def get_key_or_index(idx, mydict):\n",
    "            for key, indices in mydict.items():\n",
    "                if idx in indices:\n",
    "                    return key\n",
    "            return idx\n",
    "\n",
    "    #this is to suppress setting with copy warning\n",
    "        pd.options.mode.chained_assignment = None\n",
    "        roads['component'] = roads.index.map(lambda idx: get_key_or_index(idx, mydict))\n",
    "        ints['component'] = -1\n",
    "        roads = roads.dissolve(by = 'component', as_index = False)\n",
    "        gdf = pd.concat([ints, roads])\n",
    "        return gdf\n"
   ]
  },
  {
   "cell_type": "code",
   "execution_count": null,
   "id": "3a725d72-710d-49c2-b53a-66dc913ee3f1",
   "metadata": {},
   "outputs": [],
   "source": [
    "def make_edges(gdf_tot):\n",
    "\n",
    "    #prep\n",
    "    #takes dataset with roads and intersections, creates edgelist of nodes with weights of edges\n",
    "    ints, roads = ints_and_roads(gdf_tot)\n",
    "    #we need indices from 0 --> reset\n",
    "    ints.reset_index(inplace = True, drop = True)\n",
    "    roads.reset_index(inplace = True, drop = True)\n",
    "\n",
    "\n",
    "    #body\n",
    "    stubs = within_dist_dupes(ints, 1, roads) #all stubs, i.e all roads connected to all nodes\n",
    "    grouped = stubs.groupby('index_right') #one dataframe for each node\n",
    "    edges = {} # will contain intersections of each node \n",
    "    edge_list = pd.DataFrame(columns = ['from','to','weight'])\n",
    "    for node, group in grouped:\n",
    "        stubs = stubs[stubs['index_right'] != node] #removing \"self\" from gdf that we will merge onto, to avoid self connections. also removes redundancies  \n",
    "        edges[node] = pd.merge(group,stubs, on = 'ID', how = 'inner')\n",
    "        edge_list_temp = pd.DataFrame({'from': edges[node].index_right_x, 'to': edges[node].index_right_y, 'weight': edges[node].width_x})\n",
    "        edge_list = pd.concat([edge_list if not edge_list.empty \n",
    "                               else None,edge_list_temp])\n",
    "    \n",
    "    \n",
    "    #exceptions    \n",
    "    #adds self-edges to nodes that don't appear in to or from\n",
    "    conc = pd.concat([edge_list['from'], edge_list['to']])\n",
    "    all = set(range(0, len(ints))) #all possible nodes\n",
    "    there = set(conc.unique()) #the nodes we actually have\n",
    "    not_there = sorted(list(all-there)) #missing nodes (irregardless of why they're missing for the moment)\n",
    "    df_self = pd.DataFrame({'from': not_there, 'to': not_there, 'weight': [1] * len(not_there)})\n",
    "    edge_list = pd.concat([edge_list, df_self])\n",
    "    return edge_list\n",
    "    \n"
   ]
  },
  {
   "cell_type": "code",
   "execution_count": null,
   "id": "61fdffd3-e7b7-4c58-ad73-c49d4791c7fe",
   "metadata": {},
   "outputs": [],
   "source": [
    "def calc_pos(gdf, G):\n",
    "    #takes dataset and network, calculates node positions and stores them in dict\n",
    "    \n",
    "    ints, _ = ints_and_roads(gdf)\n",
    "    cent = ints.centroid\n",
    "    coordinates = np.column_stack((cent.geometry.x, cent.geometry.y))\n",
    "    positions = dict(zip(sorted(G.nodes), coordinates))\n",
    "    return positions"
   ]
  },
  {
   "cell_type": "code",
   "execution_count": null,
   "id": "88c24b6e-1ec5-46dc-be3a-f3d918eecbed",
   "metadata": {},
   "outputs": [],
   "source": [
    "def plot_clusters(positions, G):\n",
    "    #takes network, plots clusters by color and edge width by color\n",
    "    \n",
    "    Gcc = sorted(nx.connected_components(G), key = len, reverse = True)\n",
    "    \n",
    "    f, ax = plt.subplots(1, 1, figsize=(8, 8))\n",
    "    ax.set_title(\"Road graph. Nodes are colored by cluster, and edges are colored by width\")\n",
    "    ax.axis(\"off\")\n",
    "    colorlist = [ 'r', 'g', 'b', 'y', 'orange']\n",
    "    #plot each component one at a time\n",
    "    \n",
    "    for i in range(0, len(Gcc)):\n",
    "        nx.draw_networkx_nodes(G, positions, nodelist = list(Gcc[i]), \n",
    "                               node_color = colorlist[i%5], ax=ax, \n",
    "                               node_size=0.8, alpha = 0.3)\n",
    "    #now draw all edges using color map\n",
    "    edges, weights = zip(*nx.get_edge_attributes(G,'weight').items())\n",
    "    nx.draw_networkx_edges(G, positions, edge_color = weights, \n",
    "                           edge_cmap = plt.cm.inferno, \n",
    "                           edge_vmin = min(weights), edge_vmax = max(weights), width =0.3,\n",
    "                           node_size = 0.9,\n",
    "                           ax = ax)   \n",
    "    #labels = nx.draw_networkx_labels(G, pos=positions, font_size = 6)\n",
    "    cx.add_basemap(ax, source=cx.providers.CartoDB.Positron)\n",
    "    \n",
    "    plt.show()"
   ]
  },
  {
   "cell_type": "markdown",
   "id": "65b56613-72ef-4884-a2c8-70b707184cbc",
   "metadata": {},
   "source": [
    "## Creating the Networks\n",
    "\n",
    "Our networks will have intersections as nodes and roads as edges. an edge will be placed between two nodes when there is a road connecting them.  \n",
    "Our dataset sometimes has consecutive roads counted as distinct ones; we must join consecutive roads together so that we can rpoperly place edges between nodes.  "
   ]
  },
  {
   "cell_type": "markdown",
   "id": "748b9a8d-b493-4398-a8af-e533a5b8b9b6",
   "metadata": {},
   "source": [
    "### Toy model: streets near tangenziali\n",
    "\n",
    "First we show how dissolve joins adjacent roads.  Then we demonstrate how dissolving with tangenziali leads to large edges that are hard to deal with.  "
   ]
  },
  {
   "cell_type": "code",
   "execution_count": null,
   "id": "4071c5cc-27c5-4eed-ae10-d7391de614dc",
   "metadata": {},
   "outputs": [],
   "source": [
    "gdf = calc_widths(gdf)"
   ]
  },
  {
   "cell_type": "code",
   "execution_count": null,
   "id": "217b1f0e-7830-46ac-b6db-c570e88ba874",
   "metadata": {},
   "outputs": [],
   "source": [
    "toy = gdf.loc[gdf.NAME == 'VIA GAUDENZIO FANTOLI']"
   ]
  },
  {
   "cell_type": "code",
   "execution_count": null,
   "id": "210a1b6a-e39b-4ddb-954f-8a834625b7ee",
   "metadata": {},
   "outputs": [],
   "source": [
    "toy_d  = dissolver(toy)"
   ]
  },
  {
   "cell_type": "code",
   "execution_count": null,
   "id": "15a00341-427a-484c-9e46-c93a2a3742b6",
   "metadata": {},
   "outputs": [],
   "source": [
    "fig, ax = plt.subplots(1,2)\n",
    "fig.suptitle('before and after dissolve')\n",
    "ax[0].set_title('before')\n",
    "ax[0].set_xticks([])\n",
    "ax[0].set_yticks([])\n",
    "\n",
    "ax[1].set_title('after')\n",
    "ax[1].set_xticks([])\n",
    "ax[1].set_yticks([])\n",
    "\n",
    "toy.plot(column = 'TYPE', cmap = 'viridis', edgecolor = 'r', linewidth = 0.6, ax = ax[0])\n",
    "toy_d.plot(column = 'TYPE', cmap = 'viridis', edgecolor = 'r', linewidth = 0.6, ax = ax[1])\n",
    "cx.add_basemap(ax[0], crs=toy.crs, zoom = 15, source=cx.providers.CartoDB.Positron)\n",
    "cx.add_basemap(ax[1], crs=toy.crs, zoom = 15, source=cx.providers.CartoDB.Positron)\n",
    "plt.show()"
   ]
  },
  {
   "cell_type": "markdown",
   "id": "796e50ea-1e39-4daa-9011-9c709f2c3f66",
   "metadata": {},
   "source": [
    "Consecutive roads were successfully dissolved into single roads.  Now the intersections (in yellow) will be properly detected as connected by edges."
   ]
  },
  {
   "cell_type": "markdown",
   "id": "1b90b366-5dfb-4ba6-8bdc-c8b9c7716867",
   "metadata": {},
   "source": [
    "Now let's add tangenziali to our toy model"
   ]
  },
  {
   "cell_type": "code",
   "execution_count": null,
   "id": "fb759e56-29e0-4eb8-a536-3ea0bcaa3676",
   "metadata": {},
   "outputs": [],
   "source": [
    "toy = within_dist(toy,100,gdf) #takes all streets within 100 m of toy\n",
    "toy_d  = dissolver(toy)"
   ]
  },
  {
   "cell_type": "code",
   "execution_count": null,
   "id": "5250e68c-5b0c-4a9e-a506-9c71cf3fedcf",
   "metadata": {},
   "outputs": [],
   "source": [
    "fig, ax = plt.subplots(1,2)\n",
    "fig.suptitle('before and after dissolve, with tangenziali')\n",
    "ax[0].set_title('before')\n",
    "ax[0].set_xticks([])\n",
    "ax[0].set_yticks([])\n",
    "\n",
    "ax[1].set_title('after')\n",
    "ax[1].set_xticks([])\n",
    "ax[1].set_yticks([])\n",
    "\n",
    "toy.plot(column = 'ID', ax = ax[0])\n",
    "toy_d.plot(column = 'ID', ax = ax[1])\n",
    "cx.add_basemap(ax[0], crs=toy.crs, zoom = 15, source=cx.providers.CartoDB.Positron)\n",
    "cx.add_basemap(ax[1], crs=toy.crs, zoom = 15, source=cx.providers.CartoDB.Positron)\n",
    "plt.show()"
   ]
  },
  {
   "cell_type": "markdown",
   "id": "6e76be83-a04f-402f-933d-dd57f2b9bdf6",
   "metadata": {},
   "source": [
    "Each individual street or intersection has its color. We see that in the before image there are many streets, whereas in the after image The tangenziale has combined with some other streets to become one large brown street.  This is a problem because it means that all the nodes that the tangenziale touches will be connected by this very large edge.  "
   ]
  },
  {
   "cell_type": "markdown",
   "id": "3b348adf-bbb7-4ae5-9113-7c4ec552967f",
   "metadata": {},
   "source": [
    "We can see a more in depth image using the gdf.explore() command.  Remember, TYPE that starts with 01 counts as a road, and with 02 counts as an intersection.  \n",
    "By looking around you can see that many intersections are connected by one large brown road.  \n",
    "For example, the intersection of VIALE DELL'AVIAZIONE (in cyan) connects to the same road polygon four times... "
   ]
  },
  {
   "cell_type": "code",
   "execution_count": null,
   "id": "d321a1c8-d746-4c91-8e76-445f6ded586a",
   "metadata": {},
   "outputs": [],
   "source": [
    "toy_d.explore(column = 'ID') #column = 'TYPE' to see color coding of intersections/roads instead"
   ]
  },
  {
   "cell_type": "markdown",
   "id": "624167c6-70ce-4f7c-abc3-2ea43e9b424d",
   "metadata": {},
   "source": [
    "It's clear to see that the tangenziale has engulfed a piece of Via Gaudenzio Fantoli into it (NB THESE STREETS ARE NOT EVEN AT THE SAME HEIGHT, SO THIS IS ANOTHER CRITICALITY OF THIS METHOD) and via Monlue."
   ]
  },
  {
   "cell_type": "markdown",
   "id": "d4843b7a-9a2e-4c3d-accf-34f7492ac0f6",
   "metadata": {},
   "source": [
    "### Entire dataset with tangenziali\n",
    "\n",
    "now let's look at the actual graph of the road network"
   ]
  },
  {
   "cell_type": "code",
   "execution_count": null,
   "id": "261fdb56-87e5-49ff-87ab-3a979ba00026",
   "metadata": {},
   "outputs": [],
   "source": [
    "gdf2 = dissolver(gdf)\n",
    "gdf2 = calc_widths(gdf2)\n",
    "gdf2.reset_index(inplace = True, drop = True)"
   ]
  },
  {
   "cell_type": "code",
   "execution_count": null,
   "id": "06edbe58-8df2-4abb-8666-a52c57f056b7",
   "metadata": {},
   "outputs": [],
   "source": [
    "edges = make_edges(gdf2)\n",
    "G = nx.from_pandas_edgelist(edges, 'from', 'to', edge_attr=[\"weight\"] , create_using=nx.MultiGraph())\n",
    "Gcc = sorted(nx.connected_components(G), key = len, reverse = True)\n",
    "\n",
    "print(\"Number of components: \",len(Gcc),\n",
    "      \"\\n largest: \",  len(Gcc[0]),\n",
    "      \"\\n second largest: \" , len(Gcc[1]),\n",
    "      \"\\n third largest: \" ,len(Gcc[2])\n",
    "     )\n"
   ]
  },
  {
   "cell_type": "markdown",
   "id": "52e5bbd2-5b41-4757-88f3-780ae820942b",
   "metadata": {},
   "source": [
    "A perfect fully connected network would have just one giant component. We have a few exceptions in our dataset, but at least we see that the second largest component only has 15 nodes.  \n",
    "\n"
   ]
  },
  {
   "cell_type": "markdown",
   "id": "9a0f7c08-c222-4fb4-93bd-dca80181b2b5",
   "metadata": {},
   "source": [
    "### Graph plot:\n",
    "\n",
    "We plot the graph network below. NB isolated nodes have been given a self loop to make them more visible in the plot. The loop has no geographical meaning."
   ]
  },
  {
   "cell_type": "code",
   "execution_count": null,
   "id": "08b82e24-ae8b-4711-9329-38bf3e43407a",
   "metadata": {},
   "outputs": [],
   "source": [
    "positions = calc_pos(gdf2, G)\n",
    "plot_clusters(positions, G)"
   ]
  },
  {
   "cell_type": "markdown",
   "id": "daad3ea2-bfba-4f84-a892-df98c23c286e",
   "metadata": {},
   "source": [
    "The large purplish clusters are all the regions where tangenziali are present.  The number of the nodes in the regions is correct, but all of them seem to be connected by these extremely long and identical edges."
   ]
  },
  {
   "cell_type": "markdown",
   "id": "03bda80c-dbe9-4a2e-b021-404de2439269",
   "metadata": {},
   "source": [
    "## Entire dataset without tangenziali\n",
    "\n",
    "Let's see what the network looks like without tangenziali."
   ]
  },
  {
   "cell_type": "code",
   "execution_count": null,
   "id": "d4c6420d-32ce-40ac-bbf9-e531d21784d2",
   "metadata": {},
   "outputs": [],
   "source": [
    "gdf = gdf.loc[~gdf['NAME'].str.contains('TANGENZIALE', regex = False)] #removing tangenziali\n",
    "\n",
    "gdf3 = dissolver(gdf)\n",
    "gdf3 = calc_widths(gdf3)\n",
    "gdf3.reset_index(inplace = True, drop = True)"
   ]
  },
  {
   "cell_type": "code",
   "execution_count": null,
   "id": "b97f07df-310e-4f94-94f2-a323c30d1130",
   "metadata": {},
   "outputs": [],
   "source": [
    "edges3 = make_edges(gdf3)\n",
    "G3 = nx.from_pandas_edgelist(edges, 'from', 'to', edge_attr=[\"weight\"] , create_using=nx.MultiGraph())\n",
    "Gcc = sorted(nx.connected_components(G3), key = len, reverse = True)\n",
    "\n",
    "print(\"Number of components: \",len(Gcc),\n",
    "      \"\\n largest: \",  len(Gcc[0]),\n",
    "      \"\\n second largest: \" , len(Gcc[1]),\n",
    "      \"\\n third largest: \" ,len(Gcc[2])\n",
    "     )"
   ]
  },
  {
   "cell_type": "markdown",
   "id": "1646ecf7-8300-43ed-a719-3ded9e65c920",
   "metadata": {},
   "source": [
    "Just by looking at the component sizes, it seems like the general connectivity of the network has not gotten worse"
   ]
  },
  {
   "cell_type": "code",
   "execution_count": null,
   "id": "b6133041-45f1-4c31-a788-f6869fdad6f5",
   "metadata": {},
   "outputs": [],
   "source": [
    "positions = calc_pos(gdf3, G3)\n",
    "plot_clusters(positions, G3)"
   ]
  },
  {
   "cell_type": "markdown",
   "id": "f84dfa3a-f307-42e9-9eb7-0468cbb9b951",
   "metadata": {},
   "source": [
    "Most of the criticalities have disappeared! some remain because some of the streets in milan that are very large are not technically tangenziali. They can be manually removed if necessary"
   ]
  },
  {
   "cell_type": "markdown",
   "id": "3193b708-ccb4-4b52-85c6-bb189cca15de",
   "metadata": {},
   "source": [
    "## Average length and width distribution of roads\n",
    "\n",
    "Let's look at some metrics:"
   ]
  },
  {
   "cell_type": "code",
   "execution_count": null,
   "id": "e2cb6755-baed-4b48-b74b-adea8d24649e",
   "metadata": {},
   "outputs": [],
   "source": [
    "gdf2.head() #length is stored in root1 column, width in width"
   ]
  },
  {
   "cell_type": "code",
   "execution_count": null,
   "id": "6b6e7553-6647-44a9-befc-f6a32b14914e",
   "metadata": {},
   "outputs": [],
   "source": [
    "print('length comparison \\n',\n",
    "      'with tangenziali: ', gdf2.root1.mean(),\n",
    "      '+- ', gdf2.root1.std(),\n",
    "      '\\n \\t median: ', gdf2.root1.median(),\n",
    "      '\\n without tangenziali: ' , gdf3.root1.mean(),\n",
    "      '+- ', gdf3.root1.std(),\n",
    "      '\\n \\t median: ',gdf3.root1.median())"
   ]
  },
  {
   "cell_type": "code",
   "execution_count": null,
   "id": "735c3320-8214-4d4a-b735-88e52c0a0662",
   "metadata": {},
   "outputs": [],
   "source": [
    "fig, ax = plt.subplots(1,2)\n",
    "fig.suptitle('length distribution with and without tangenziali')\n",
    "ax[0].set_title('with')\n",
    "ax[1].set_title('without')\n",
    "ax[0].set_yscale('log')\n",
    "ax[1].set_yscale('log')\n",
    "range = np.linspace(0,gdf2.root1.max(), 50)\n",
    "gdf2.root1.plot(kind = 'hist', bins = range,ax = ax[0],)\n",
    "gdf3.root1.plot(kind = 'hist', bins = range, ax = ax[1],)\n",
    "plt.show()"
   ]
  },
  {
   "cell_type": "markdown",
   "id": "44855cbc-4952-4974-b87e-77fb20a26ef5",
   "metadata": {},
   "source": [
    "We can see that removing tangenziali loses a large portion of the longest streets."
   ]
  },
  {
   "cell_type": "code",
   "execution_count": null,
   "id": "180cbcb7-20a5-4ddf-a54b-f2bcb5e47d06",
   "metadata": {},
   "outputs": [],
   "source": [
    "print('width comparison \\n',\n",
    "      'with tangenziali: ', gdf2.width.mean(),\n",
    "      '+- ', gdf2.width.std(),\n",
    "      '\\n \\t median: ', gdf2.width.median(),\n",
    "      '\\n without tangenziali: ' , gdf3.width.mean(),\n",
    "      '+- ', gdf3.width.std(),\n",
    "      '\\n \\t median: ',gdf3.width.median())"
   ]
  },
  {
   "cell_type": "code",
   "execution_count": null,
   "id": "7b5ae22e-1284-405c-9dab-4b9c1ef7da93",
   "metadata": {},
   "outputs": [],
   "source": [
    "fig, ax = plt.subplots(1,2)\n",
    "fig.suptitle('length distribution with and without tangenziali')\n",
    "ax[0].set_title('with')\n",
    "ax[1].set_title('without')\n",
    "ax[0].set_yscale('log')\n",
    "ax[1].set_yscale('log')\n",
    "range = np.linspace(0,gdf2.width.max(), 50)\n",
    "gdf2.width.plot(kind = 'hist', bins = range,ax = ax[0],)\n",
    "gdf3.width.plot(kind = 'hist', bins = range, ax = ax[1],)\n",
    "plt.show()"
   ]
  },
  {
   "cell_type": "markdown",
   "id": "797cff75-c7e6-4524-a6f6-f28bdb571a77",
   "metadata": {},
   "source": [
    "Width is practically identical with and without. This makes sense, since tangenziali aren't wide enough to skew the metric.  "
   ]
  },
  {
   "cell_type": "markdown",
   "id": "db6844a6-57b6-4f52-bf78-80db921e5223",
   "metadata": {},
   "source": [
    "All this suggests that removing Tangenziali from the dataset could significantly clean up the dataset while preserving the structure and metrics of the network.  \n",
    "Let me know what you think."
   ]
  },
  {
   "cell_type": "markdown",
   "id": "709975ba-5c89-454e-ba1b-f35ebfbe870a",
   "metadata": {},
   "source": [
    "## Percolation and keeping track of removed lengths\n",
    "To do"
   ]
  },
  {
   "cell_type": "code",
   "execution_count": null,
   "id": "5fd07bd1-4a49-4aec-875a-a15202c855b0",
   "metadata": {},
   "outputs": [],
   "source": []
  }
 ],
 "metadata": {
  "kernelspec": {
   "display_name": "Python 3 (ipykernel)",
   "language": "python",
   "name": "python3"
  },
  "language_info": {
   "codemirror_mode": {
    "name": "ipython",
    "version": 3
   },
   "file_extension": ".py",
   "mimetype": "text/x-python",
   "name": "python",
   "nbconvert_exporter": "python",
   "pygments_lexer": "ipython3",
   "version": "3.12.1"
  }
 },
 "nbformat": 4,
 "nbformat_minor": 5
}
