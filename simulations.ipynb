{
 "cells": [
  {
   "cell_type": "markdown",
   "id": "631eac0e-5a48-473f-976a-9f2eb5358253",
   "metadata": {},
   "source": [
    "# Dedicated Lane Simulation\n",
    "In this notebook:\n",
    "- We load our graph from a .gml file, complete with node and edge attributes.  \n",
    "- We begin simulating the addition of a new network of dedicated fixed width lanes above our old one.  \n",
    "- We study the characteristics of both networks, and their interplay"
   ]
  },
  {
   "cell_type": "code",
   "execution_count": null,
   "id": "d9540c7d-43c8-47f2-a31b-cfa886264929",
   "metadata": {},
   "outputs": [],
   "source": [
    "import numpy as np\n",
    "import pandas as pd\n",
    "import geopandas as gpd\n",
    "import contextily as cx\n",
    "import matplotlib.pyplot as plt\n",
    "import networkx as nx\n",
    "import pdb"
   ]
  },
  {
   "cell_type": "code",
   "execution_count": null,
   "id": "85aa488f-4ba9-41bc-9334-c8492f0ca494",
   "metadata": {},
   "outputs": [],
   "source": [
    "import os\n",
    "cwd = os.getcwd()\n",
    "graph_path = os.path.join(cwd, \"dataset_vehicles_preprocessed/dataset_vehicles_preprocessed/road_graph.gml.gz\")\n",
    "G = nx.read_gml(graph_path)\n"
   ]
  },
  {
   "cell_type": "markdown",
   "id": "038b10eb-2ca7-42f7-b939-9fd7b0d6f749",
   "metadata": {},
   "source": [
    "## Adding preferential bus lanes to the network\n",
    "We now want to create a new network that stems from our initial one. Our goal is to study this network and the underlying one's characteristics depending on two things: \n",
    "- the fractional size of the new network\n",
    "- the width of the roads of the new network.  \n",
    "NB these variables have some correlation: if i implement lanes of width x, then only roads wider than x can have those lanes. therefore, the fraction of roads that can have lanes is capped.\n",
    "a relevant resulting quantity is the size of the remaining network compared to its initial size. Once we get more realistic, we could put in boundaries for how large a lane can be, or how large the remaining space of the street should be.\n",
    "Another resulting variable is the maximum possible subnetwork size, which depends on our fractional size and width threshold.\n",
    "possible further analyses may include implementing OPC as a preliminary congestion study."
   ]
  },
  {
   "cell_type": "code",
   "execution_count": null,
   "id": "7252ba8a-deee-4fe8-aa1f-9a4d90eec68f",
   "metadata": {},
   "outputs": [],
   "source": [
    "Gcc = sorted(nx.connected_components(G), key = len, reverse = True)\n",
    "G = G.subgraph(Gcc[0])\n",
    "G = G.copy() #this way i can manipulate graph attributes without ruining original"
   ]
  },
  {
   "cell_type": "code",
   "execution_count": null,
   "id": "a81dedf5-9a63-4bb1-8642-a74160a66e7c",
   "metadata": {},
   "outputs": [],
   "source": [
    "def dedicated_lanes(G, width, greedy, fraction = 1, w_car = 3.5):\n",
    "    #takes graph as input, creates dedicated lane networks with width parameter = max_width, and size = fraction*max_size(G)\n",
    "    #where max_size(G) is the maximum size of the new network given its width parameter \n",
    "    #e.g if width = 5 i can't have an edge where the original network had an edge of width < 5\n",
    "    #If greedy = True then bus lanes have priority over car lane survival\n",
    "    \n",
    "    G = G.copy() #so original network can be preserved \n",
    "\n",
    "    #CREATING SUBGRAPH\n",
    "    #select region where we could make subgraph with edge_weights = width\n",
    "    threshold = width+w_car\n",
    "    if greedy:\n",
    "        threshold = width\n",
    "    G_ = nx.MultiGraph((source, target, attr) for source, target, attr in G.edges(data=True) if attr['weight'] > threshold)\n",
    "    #update position attributes\n",
    "    pos_dict = nx.get_node_attributes(G,'position') #dict of OLD graph attributes\n",
    "    pos_dict = {key: value for key, value in pos_dict.items() if key in list(G_.nodes())} #remove keys that are not in NEW graph\n",
    "    nx.set_node_attributes(G_,pos_dict,'position')\n",
    "    nx.set_edge_attributes(G_,width, 'weight')\n",
    "    #UPDATING ORIGINAL GRAPH WEIGHTS\n",
    "    weight_dict = nx.get_edge_attributes(G,'weight')\n",
    "    weight_dict2 = nx.get_edge_attributes(G_,'weight')\n",
    "    for key in weight_dict2:\n",
    "        if key in weight_dict.keys():\n",
    "            weight_dict[key] -= width\n",
    "    \n",
    "    #weight_dict = {key: value - width for key, value in weight_dict.items()}\n",
    "    nx.set_edge_attributes(G,weight_dict,'weight')\n",
    "    if greedy == True: #remove car lanes that are too small to have cars\n",
    "        temp = nx.MultiGraph((source, target, attr) for source, target, attr in G.edges(data=True) if attr['weight'] > w_car)\n",
    "        pos_dict = nx.get_node_attributes(G,'position') #dict of OLD graph attributes\n",
    "        pos_dict = {key: value for key, value in pos_dict.items() if key in list(temp.nodes())} #remove keys that are not in NEW graph\n",
    "        nx.set_node_attributes(temp,pos_dict,'position')\n",
    "        G = temp.copy()\n",
    "        # edges_to_remove = [(u, v) for u, v, weight in G.edges(data='weight') if weight < w_car]\n",
    "        # pdb.set_trace()\n",
    "        # G.remove_edges_from(edges_to_remove)\n",
    "        # print(len(G.edges))\n",
    "    return G, G_"
   ]
  },
  {
   "cell_type": "code",
   "execution_count": null,
   "id": "548f1e44-8bf4-4aa0-bb6d-678b7afd7966",
   "metadata": {},
   "outputs": [],
   "source": [
    "temp1, temp2 = dedicated_lanes(G,13, greedy = True)"
   ]
  },
  {
   "cell_type": "code",
   "execution_count": null,
   "id": "736cdb9d-2f1a-4d0a-ad7e-d687e8072aa5",
   "metadata": {},
   "outputs": [],
   "source": [
    "def plot_comparison(G1, G2):\n",
    "    #plots edges of base network G1 in black\n",
    "    positions1 = nx.get_node_attributes(G1, 'position')\n",
    "    positions2 = nx.get_node_attributes(G2, 'position')\n",
    "    f, ax = plt.subplots(1, 1, figsize=(16, 16))\n",
    "    threshold = list(nx.get_edge_attributes(G2,'weight').values())[0]\n",
    "    plt.title(f\"Comparison of base network vs clusters of dedicated lane network.\\n width threshold = {threshold} m\")\n",
    "    ax.axis(\"off\")\n",
    "    nx.draw_networkx_edges(G1, positions1, ax = ax, edge_color = 'gray', width = 0.9, label = 'base network')\n",
    "    #nx.draw_networkx_edges(G2, positions2, ax = ax, edge_color = 'green', width = 0.9, label = 'dedicated lane network')\n",
    "    \n",
    "    #draw dedicated lane network coloring by cluster\n",
    "    colorlist = [ 'r', 'g', 'b', 'y', 'orange']\n",
    "    Gcc = sorted(nx.connected_components(G2), key = len, reverse = True)\n",
    "    for i in range(0, len(Gcc)):\n",
    "        temp = G2.subgraph(Gcc[i])\n",
    "        nx.draw_networkx_edges(G2, positions2, edgelist = list(temp.edges()), \n",
    "                               edge_color = colorlist[i%5], ax=ax)\n",
    "    \n",
    "    cx.add_basemap(ax, source=cx.providers.CartoDB.Positron)\n",
    "    plt.legend()\n",
    "    #plt.colorbar\n",
    "    #plt.savefig('network_comparison.png')\n",
    "    plt.show()\n",
    "    #labels = nx.draw_networkx_labels(G, pos=positions, font_size = 6)"
   ]
  },
  {
   "cell_type": "code",
   "execution_count": null,
   "id": "3637f2b1-2579-4fb1-bdc3-6d59dabe2a05",
   "metadata": {},
   "outputs": [],
   "source": [
    "plot_comparison(temp1,temp2)"
   ]
  },
  {
   "cell_type": "code",
   "execution_count": null,
   "id": "fc4e0536-c76a-4a26-b463-4d23a6e96850",
   "metadata": {},
   "outputs": [],
   "source": [
    "sizes = pd.DataFrame(columns = ['base', 'car', 'bus', 'width threshold'])\n",
    "for split in [4,6,7,8,9,10,11,12,14,16,18,20]:\n",
    "    fig, axes = plt.subplots(1,2, figsize=(16,8))\n",
    "    G1, G2 = dedicated_lanes(G, split, greedy = True, w_car = 3.5)\n",
    "    #first ax\n",
    "    positions1 = nx.get_node_attributes(G1, 'position')\n",
    "    fig.suptitle(f\"car network vs bus network\")\n",
    "    ax = axes[0]\n",
    "    ax.axis(\"off\")\n",
    "    ax.set_title(f'car network. threshold = {split} m')\n",
    "    edges, weights = zip(*nx.get_edge_attributes(G1,'weight').items())\n",
    "    drawing1 = nx.draw_networkx_edges(G1, positions, edge_color = weights, \n",
    "                           edge_cmap = plt.cm.inferno, \n",
    "                           edge_vmin = min(weights)+2, edge_vmax = max(weights)-10, width =0.7,\n",
    "                           node_size = 0.9,\n",
    "                           ax = ax) \n",
    "    cbar = plt.colorbar(drawing1)\n",
    "    cbar.set_label(f'Edge width (m)')\n",
    "    cx.add_basemap(ax, source=cx.providers.CartoDB.Positron)\n",
    "    plt.colorbar\n",
    "\n",
    "    #second ax\n",
    "    positions2 = nx.get_node_attributes(G2, 'position')\n",
    "    ax = axes[1]\n",
    "    ax.set_title(f'bus network. edge width = {split} m')\n",
    "    edges, weights = zip(*nx.get_edge_attributes(G2,'weight').items())\n",
    "    drawing2 = nx.draw_networkx_edges(G2, positions, edge_color = 'b', \n",
    "                                      width =0.7, node_size = 0.9, ax = ax) \n",
    "    cx.add_basemap(ax, source=cx.providers.CartoDB.Positron)\n",
    "\n",
    "\n",
    "    plt.savefig(f'car_vs_bus_{split}m.png')\n",
    "    temp_sizes = {'base': [len(G)],\n",
    "                               'car':[len(G1)/len(G)],\n",
    "                               'bus':[len(G2)/len(G)],\n",
    "                              'width threshold':[split]}\n",
    "    temp_sizes = pd.DataFrame(temp_sizes)\n",
    "    sizes = pd.concat([sizes if not sizes.empty \n",
    "                               else None,temp_sizes], ignore_index = True)\n",
    "#size plot\n",
    "fig, ax = plt.subplots(figsize = (8,8))\n",
    "ax.set_title('size of networks compared to base network size')\n",
    "ax2 = ax.twinx()\n",
    "ax.set_ylabel('car network size')\n",
    "ax.set_xlabel('width threshold')\n",
    "ax2.set_ylabel('bus network size')\n",
    "ax.plot(sizes['width threshold'], sizes['car'], color = 'red', label = 'car network', marker = 'o')\n",
    "ax2.plot(sizes['width threshold'], sizes['bus'], color = 'blue', label = 'bus network', marker = 'o')\n",
    "handles1, labels1 = ax.get_legend_handles_labels()\n",
    "handles2, labels2 = ax2.get_legend_handles_labels()\n",
    "handles = handles1 + handles2\n",
    "labels = labels1 + labels2\n",
    "plt.legend(handles, labels)\n",
    "plt.savefig('car_vs_bus_size_comparison.png')"
   ]
  },
  {
   "cell_type": "markdown",
   "id": "f6607142-482c-441a-9344-1aba8be62a8e",
   "metadata": {},
   "source": [
    "the car network seems to suffer initially, then reform back. it also seems fairly resilient. i could plot the fractional size vs the width threshold."
   ]
  },
  {
   "cell_type": "code",
   "execution_count": null,
   "id": "a46013c3-1f11-46d8-b550-a4d31ac78d7b",
   "metadata": {},
   "outputs": [],
   "source": []
  }
 ],
 "metadata": {
  "kernelspec": {
   "display_name": "Python 3 (ipykernel)",
   "language": "python",
   "name": "python3"
  },
  "language_info": {
   "codemirror_mode": {
    "name": "ipython",
    "version": 3
   },
   "file_extension": ".py",
   "mimetype": "text/x-python",
   "name": "python",
   "nbconvert_exporter": "python",
   "pygments_lexer": "ipython3",
   "version": "3.12.1"
  }
 },
 "nbformat": 4,
 "nbformat_minor": 5
}
