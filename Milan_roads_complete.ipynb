{
 "cells": [
  {
   "cell_type": "markdown",
   "id": "b90126d5-9236-47a4-b1c0-daf3fd71eb61",
   "metadata": {},
   "source": [
    "# ToDo: \n",
    "- quantify simplify function\n",
    "- [DONE] build tool to \"zoom in\" on roads (sjoin)\n",
    "- [DONE] create network of all roads, with weights\n",
    "- investigate algorithm for filling up links randomly with weight threshold"
   ]
  },
  {
   "cell_type": "markdown",
   "id": "4bda74bf-63b3-414a-9d6f-707e0d4590b0",
   "metadata": {},
   "source": [
    "# Road network of Milan"
   ]
  },
  {
   "cell_type": "markdown",
   "id": "1bb51ba3-696f-4f70-a88d-1c7118b1e09c",
   "metadata": {},
   "source": [
    "## Data description"
   ]
  },
  {
   "cell_type": "markdown",
   "id": "c26a6829-0dc1-44f8-a4a7-8a1c55ed64f4",
   "metadata": {},
   "source": [
    "The following code takes data from 2020 shapefiles of the milan road network, in order to perform studies on the width of the streets and to simulate the implementation of dedicated bus lanes (DBLs).\n",
    "Datasets used include the following: \n",
    "- AC_VEI_AC_VEI_SUP_SR.shp: all parts of the city that vehicles have access to i.e roads, parking etc. \n",
    "- AC_PED_AC_PED_SUP_SR.shp (pedestrian access --> sidewalk network)\n",
    "- AC_CIC_AC_CIC_SUP_SR.shp (Cycling network). all of these can be composed into AR_STR_AR_STR_SUP_SR.shp, which also comprises objects of transportation infrastructure (e.g road bumps and traffic dividers).\n",
    "- EL_TRV_EL_TRV_TRA_SG.shp elements of the road that have tram infrastructure."
   ]
  },
  {
   "cell_type": "code",
   "execution_count": null,
   "id": "256734d7-bd17-48d7-b632-829d6f0bc3e4",
   "metadata": {},
   "outputs": [],
   "source": [
    "import numpy as np\n",
    "import pandas as pd\n",
    "import geopandas as gpd\n",
    "import contextily as cx\n",
    "import matplotlib.pyplot as plt\n",
    "import networkx as nx"
   ]
  },
  {
   "cell_type": "code",
   "execution_count": null,
   "id": "9f2d99c5-4014-472b-a8cf-ea1ad0e8f1ec",
   "metadata": {},
   "outputs": [],
   "source": [
    "vehicle_path = \"C:/Users/rickb/Documents/scuola/THESIS/datasets/Milan/DBT_2020/SHAPE/AC_VEI_AC_VEI_SUP_SR.shp\"\n",
    "gdf = gpd.read_file(vehicle_path)"
   ]
  },
  {
   "cell_type": "markdown",
   "id": "dc1c6aa0-f2ae-45ae-b71c-7b94c2a4a008",
   "metadata": {},
   "source": [
    "Here's an example of what sort of info is contained inside our shapefiles"
   ]
  },
  {
   "cell_type": "code",
   "execution_count": null,
   "id": "031cf3c3-ab1a-4333-8982-2c74cabbb642",
   "metadata": {},
   "outputs": [],
   "source": [
    "gdf.head(10)"
   ]
  },
  {
   "cell_type": "markdown",
   "id": "f12c8e06-f58e-4a8f-a3db-51eee43ed35e",
   "metadata": {},
   "source": [
    "We have\n",
    "- NOME: name of the region. if it's a street it will be \"via ...\", but it could also be \"Parcheggio\", or others."
   ]
  },
  {
   "cell_type": "markdown",
   "id": "88a7b017-245b-4bcb-ab0e-76ae1649a8e2",
   "metadata": {},
   "source": [
    "- SUBREGID is a unique identifier for the polygon.\n",
    "- AC_VEI_FON is either 01 (paved street) or 02 (non paved)\n",
    "- AC_VEI_LIV is either 01 (in an underpass) or 02(not in an underpass)\n",
    "- AC_VEI_SED is either 01 (street level), 02 (on a bridge of sorts), 03 (in a gallery), 04 (in a dam)\n",
    "- AC_VEI_ZON classifies the type of region according to whether it's a road, a roundabout, a parking lot etc. This is useful for filtering data the way we need to."
   ]
  },
  {
   "cell_type": "markdown",
   "id": "f24e248f-3492-40b4-ba03-0c0caf3d3e59",
   "metadata": {},
   "source": [
    "Let's see some of the possible labels for street names, besides the most common ones"
   ]
  },
  {
   "cell_type": "code",
   "execution_count": null,
   "id": "f0422fa0-cd80-405b-bf55-3fe2614d146a",
   "metadata": {},
   "outputs": [],
   "source": [
    "x = gdf[~gdf['NOME'].str.contains('VIA|CORSO|PIAZZ|STRADA|LARGO', regex = True)] #excluding common street designations"
   ]
  },
  {
   "cell_type": "code",
   "execution_count": null,
   "id": "9fc433c7-f2df-4df4-bcd2-6bfcf129bfd6",
   "metadata": {},
   "outputs": [],
   "source": [
    "x['NOME'].unique()"
   ]
  },
  {
   "cell_type": "markdown",
   "id": "7b019cac-fb15-4a54-a1d4-09bcfd9af531",
   "metadata": {},
   "source": [
    "These tags could be useful if we decide to exclude certain data entries based on the NOME field.  \n",
    "For now, there seem to be better ways to subdivide our data (see below).  "
   ]
  },
  {
   "cell_type": "code",
   "execution_count": null,
   "id": "ae6c6ccf-0217-4432-80d1-856a2c78ae6e",
   "metadata": {},
   "outputs": [],
   "source": [
    "#cleaning up the dataset, and making a copy to work on\n",
    "\n",
    "gdf.drop(['AC_VEI_FON', 'AC_VEI_LIV', 'AC_VEI_SED', 'CLASSREF'],axis = 1, inplace = True)\n",
    "gdf.rename(columns={'SUBREGID':'ID', 'NOME': 'NAME', 'AC_VEI_ZON': 'TYPE'}, inplace = True)\n",
    "gdf_tot = gdf.copy()"
   ]
  },
  {
   "cell_type": "markdown",
   "id": "aabca417-dc98-4a30-837b-846cbe143b67",
   "metadata": {},
   "source": [
    "The first thing to do is to remove Tangenziali (urban highways, which are difficult to treat for now) from our dataset, and also only consider roads and intersections, and not other things such as parking spaces etc.\n"
   ]
  },
  {
   "cell_type": "code",
   "execution_count": null,
   "id": "c8f2823f-5d42-436d-81f8-b2512a2aedd7",
   "metadata": {},
   "outputs": [],
   "source": [
    "pattern1 = ('01','02')\n",
    " # portions of road (e.g not intersections or parking lots) start with 01 in TYPE\n",
    " # intersections, squares, and roundabouts start with 02 in TYPE\n",
    "gdf_tot = gdf_tot[~gdf_tot['NAME'].str.contains('TANGENZIALE', regex = False)] #removing tangenziali\n",
    "gdf_tot = gdf_tot[gdf_tot.TYPE.str.startswith(pattern1)]"
   ]
  },
  {
   "cell_type": "code",
   "execution_count": null,
   "id": "7744baea-bc8a-47d6-93cd-f9839798a188",
   "metadata": {},
   "outputs": [],
   "source": [
    "pattern = '01' # portions of road (e.g not intersections or parking lots) start with 01 in AC_VEI_ZON\n",
    "gdf_roads = gdf[gdf['AC_VEI_ZON'].str.startswith(pattern)]\n",
    "pattern2 = ('01','0206','0204')\n",
    "pattern3 = ('0206')\n",
    "pattern4 = ('0204')\n",
    "gdf_roads_piaz = gdf[gdf['AC_VEI_ZON'].str.startswith(pattern2)]\n",
    "gdf_round = gdf[gdf['AC_VEI_ZON'].str.startswith(pattern3)]\n",
    "gdf_piaz = gdf[gdf['AC_VEI_ZON'].str.startswith(pattern4)]"
   ]
  },
  {
   "cell_type": "markdown",
   "id": "55ab757b-c6ad-48d5-bbf4-9f0183ad014c",
   "metadata": {},
   "source": [
    "## Areas and perimeters of streets\n",
    "We now try to plot areas and perimeters of streets, with and without using the simplify method to see if there are significant differences between the two.\n",
    "our variables are gdf_roads, gdf_piaz, gdf_round, or all together in gdf_roads_piaz.\n"
   ]
  },
  {
   "cell_type": "markdown",
   "id": "a4523771-371e-4c09-86a9-38cf11afde45",
   "metadata": {},
   "source": [
    "NB for the moment we're excluding tangenziali because some of the blocks are very large and make visualization difficult"
   ]
  },
  {
   "cell_type": "code",
   "execution_count": null,
   "id": "34b57965-154f-4d55-b7c6-2d1cc6d70e0c",
   "metadata": {},
   "outputs": [],
   "source": [
    "OSM_crs = 3857\n",
    "gdf_tot.to_crs(epsg=OSM_crs, inplace = True)\n",
    "\n",
    "gdf_tot['Perimeter'] = gdf_tot.length\n",
    "gdf_tot['Area'] = gdf_tot.area"
   ]
  },
  {
   "cell_type": "code",
   "execution_count": null,
   "id": "5baa6615-9854-4fc5-aeae-062f6a0cac2f",
   "metadata": {},
   "outputs": [],
   "source": [
    "x = gdf_tot.Area.idxmax()"
   ]
  },
  {
   "cell_type": "code",
   "execution_count": null,
   "id": "af9b100e-d817-44a1-bb8a-de53f91cda99",
   "metadata": {},
   "outputs": [],
   "source": [
    "gdf_tot.loc[x] #see largest road/intersection, to see if there's any \"glitches\""
   ]
  },
  {
   "cell_type": "markdown",
   "id": "ff545655-ed94-4b21-86a6-3276f47fe89a",
   "metadata": {},
   "source": [
    "Piazza della Repubblica is a large square in Milan, so it makes sense."
   ]
  },
  {
   "cell_type": "code",
   "execution_count": null,
   "id": "3191d89f-8d8c-4c61-a794-69f38864727a",
   "metadata": {},
   "outputs": [],
   "source": [
    "bins = range(0,10000,40)\n",
    "#bins = range(np.floor(gdf_roads_piaz.Area.min()).astype(int), np.floor(gdf_roads_piaz.Area.max()).astype(int)+1,40)\n",
    "fig, ax = plt.subplots(1, figsize=(4,4))\n",
    "gdf_tot.Area.hist(bins = bins, ax = ax, color = 'green', alpha = 0.5)\n",
    "plt.title('Areas of the streets of Milan')\n",
    "#ax.set_xscale('log')\n",
    "std = gdf_tot.Area.std()\n",
    "mean = gdf_tot.Area.mean()\n",
    "ax.set_xlabel('Area $(m^2)$')\n",
    "ax.set_ylabel('Counts')\n",
    "plt.annotate(f'Mean: {mean:.2f} $m^2$', xy=(0.5, 0.95), xycoords='axes fraction')\n",
    "plt.annotate(f'std: {std:.2f} $m^2$', xy=(0.5, 0.85), xycoords='axes fraction')\n",
    "\n",
    "plt.show()"
   ]
  },
  {
   "cell_type": "code",
   "execution_count": null,
   "id": "f26c5a97-c723-4933-9deb-c3b5111fb510",
   "metadata": {},
   "outputs": [],
   "source": [
    "bins = list(range(0, 2000,40))\n",
    "fig, ax = plt.subplots(1, figsize=(4,4))\n",
    "gdf_tot.Perimeter.hist(bins = bins, ax = ax, color = 'green', alpha = 0.5)\n",
    "plt.title('Perimeters of the streets of Milan')\n",
    "#ax.set_xscale('log')\n",
    "std = gdf_tot.Perimeter.std()\n",
    "mean = gdf_tot.Perimeter.mean()\n",
    "ax.set_xlabel('Perimeter $(m^2)$')\n",
    "ax.set_ylabel('Counts')\n",
    "plt.annotate(f'Mean: {mean:.2f} $m^2$', xy=(0.5, 0.95), xycoords='axes fraction')\n",
    "plt.annotate(f'std: {std:.2f} $m^2$', xy=(0.5, 0.85), xycoords='axes fraction')\n",
    "plt.show()"
   ]
  },
  {
   "cell_type": "markdown",
   "id": "4eb9cc90-4775-4a53-9778-a1a25017b732",
   "metadata": {},
   "source": [
    "### Simplified road network\n"
   ]
  },
  {
   "cell_type": "code",
   "execution_count": null,
   "id": "1ac049d1-f9d9-4c91-b53e-4c2220b6c8bc",
   "metadata": {},
   "outputs": [],
   "source": [
    "gdf_tot['SimpArea1'] = gdf_tot.geometry.simplify(1).area\n",
    "gdf_tot['SimpArea2'] = gdf_tot.geometry.simplify(5).area\n",
    "gdf_tot['SimpArea3'] = gdf_tot.geometry.simplify(10).area\n",
    "gdf_tot['SimpPeri1'] = gdf_tot.geometry.simplify(1).length\n",
    "gdf_tot['SimpPeri2'] = gdf_tot.geometry.simplify(5).length\n",
    "gdf_tot['SimpPeri3'] = gdf_tot.geometry.simplify(10).length"
   ]
  },
  {
   "cell_type": "code",
   "execution_count": null,
   "id": "04a28e84-447e-4d98-9eb0-b6d25f1dab87",
   "metadata": {},
   "outputs": [],
   "source": [
    "bins = list(range(0, 3000,40))\n",
    "fig, axs = plt.subplots(1,4, figsize=(12,4))\n",
    "simps = [0,1,5,10]\n",
    "gdf_tot['Perimeter'].hist(bins = bins, ax=axs[0])\n",
    "gdf_tot.SimpPeri1.hist(bins = bins, ax=axs[1], color = 'green', alpha = 0.5)\n",
    "gdf_tot.SimpPeri2.hist(bins = bins, ax=axs[2], color = 'red', alpha = 0.5)\n",
    "gdf_tot.SimpPeri3.hist(bins = bins, ax=axs[3], color = 'yellow', alpha = 0.5)\n",
    "\n",
    "plt.title('perimeters of the streets of Milan')\n",
    "\n",
    "std0 = gdf_tot.Perimeter.std()\n",
    "mean0 = gdf_tot.Perimeter.mean()\n",
    "axs[0].annotate(f'Mean: {mean0:.2f} $m^2$', xy=(0.4, 0.95), xycoords='axes fraction')\n",
    "axs[0].annotate(f'std: {std0:.2f} $m^2$', xy=(0.4, 0.85), xycoords='axes fraction')\n",
    "axs[0].set_xlabel('unsimplified')\n",
    "\n",
    "mean1 = gdf_tot.SimpPeri1.mean()\n",
    "std1 = gdf_tot.SimpPeri1.std()\n",
    "axs[1].annotate(f'Mean: {mean1:.2f} $m^2$', xy=(0.4, 0.95), xycoords='axes fraction')\n",
    "axs[1].annotate(f'std: {std1:.2f} $m^2$', xy=(0.4, 0.85), xycoords='axes fraction')\n",
    "axs[1].set_xlabel('simplified 1')\n",
    "\n",
    "mean2 = gdf_tot.SimpPeri2.mean()\n",
    "std2 = gdf_tot.SimpPeri2.std()\n",
    "axs[2].annotate(f'Mean: {mean2:.2f} $m^2$', xy=(0.4, 0.95), xycoords='axes fraction')\n",
    "axs[2].annotate(f'std: {std2:.2f} $m^2$', xy=(0.4, 0.85), xycoords='axes fraction')\n",
    "axs[2].set_xlabel('simplified 5')\n",
    "\n",
    "mean3 = gdf_tot.SimpPeri3.mean()\n",
    "std3 = gdf_tot.SimpPeri3.std()\n",
    "axs[3].annotate(f'Mean: {mean3:.2f} $m^2$', xy=(0.4, 0.95), xycoords='axes fraction')\n",
    "axs[3].annotate(f'std: {std3:.2f} $m^2$', xy=(0.4, 0.85), xycoords='axes fraction')\n",
    "axs[3].set_xlabel('simplified 10')"
   ]
  },
  {
   "cell_type": "code",
   "execution_count": null,
   "id": "f20b3722-c16a-44a8-b5b6-c1b467c9c7b7",
   "metadata": {},
   "outputs": [],
   "source": [
    "bins = list(range(0, 10000,40))\n",
    "fig, axs = plt.subplots(1,4, figsize=(12,4))\n",
    "gdf_tot['Area'].hist(bins = bins, ax=axs[0])\n",
    "gdf_tot.SimpArea1.hist(bins = bins, ax=axs[1], color = 'green', alpha = 0.5)\n",
    "gdf_tot.SimpArea2.hist(bins = bins, ax=axs[2], color = 'red', alpha = 0.5)\n",
    "gdf_tot.SimpArea3.hist(bins = bins, ax=axs[3], color = 'yellow', alpha = 0.5)\n",
    "\n",
    "std0 = gdf_tot.Area.std()\n",
    "mean0 = gdf_tot.Area.mean()\n",
    "axs[0].annotate(f'Mean: {mean0:.2f} $m^2$', xy=(0.4, 0.95), xycoords='axes fraction')\n",
    "axs[0].annotate(f'std: {std0:.2f} $m^2$', xy=(0.4, 0.85), xycoords='axes fraction')\n",
    "axs[0].set_xlabel('unsimplified')\n",
    "\n",
    "mean1 = gdf_tot.SimpArea1.mean()\n",
    "std1 = gdf_tot.SimpArea1.std()\n",
    "axs[1].annotate(f'Mean: {mean1:.2f} $m^2$', xy=(0.4, 0.95), xycoords='axes fraction')\n",
    "axs[1].annotate(f'std: {std1:.2f} $m^2$', xy=(0.4, 0.85), xycoords='axes fraction')\n",
    "axs[1].set_xlabel('simplified 1')\n",
    "\n",
    "mean2 = gdf_tot.SimpArea2.mean()\n",
    "std2 = gdf_tot.SimpArea2.std()\n",
    "axs[2].annotate(f'Mean: {mean2:.2f} $m^2$', xy=(0.4, 0.95), xycoords='axes fraction')\n",
    "axs[2].annotate(f'std: {std2:.2f} $m^2$', xy=(0.4, 0.85), xycoords='axes fraction')\n",
    "axs[2].set_xlabel('simplified 5')\n",
    "\n",
    "mean3 = gdf_tot.SimpArea3.mean()\n",
    "std3 = gdf_tot.SimpArea3.std()\n",
    "axs[3].annotate(f'Mean: {mean3:.2f} $m^2$', xy=(0.4, 0.95), xycoords='axes fraction')\n",
    "axs[3].annotate(f'std: {std3:.2f} $m^2$', xy=(0.4, 0.85), xycoords='axes fraction')\n",
    "axs[3].set_xlabel('simplified 10')\n",
    "\n",
    "plt.show()"
   ]
  },
  {
   "cell_type": "markdown",
   "id": "b2080202-19e6-4dbc-93fc-78d197ffdb43",
   "metadata": {},
   "source": [
    "interestingly, area increases at first then decreases. why is this?"
   ]
  },
  {
   "cell_type": "markdown",
   "id": "57a78014-5dd2-4966-933b-07df8bd4a086",
   "metadata": {},
   "source": [
    "Can we show percentage change in area as a function of area, for each simplification?\n",
    "$\\frac{SimpArea-Area}{Area}$ times 100"
   ]
  },
  {
   "cell_type": "code",
   "execution_count": null,
   "id": "f203aad1-b7c6-4bf9-8cdc-d86e1c4b8208",
   "metadata": {},
   "outputs": [],
   "source": [
    "simps = gdf_tot[['SimpArea1','SimpArea2','SimpArea3']]\n",
    "fig, axs = plt.subplots(1,3, figsize=(9,4))\n",
    "change1 = ((gdf_tot.SimpArea1-gdf_tot.Area)/gdf_tot.Area)*100\n",
    "change2 = ((gdf_tot.SimpArea2-gdf_tot.Area)/gdf_tot.Area)*100\n",
    "change3 = ((gdf_tot.SimpArea3-gdf_tot.Area)/gdf_tot.Area)*100\n",
    "axs[0].plot(gdf_tot.Area,change1, 'bo', markersize = 3)\n",
    "axs[1].plot(gdf_tot.Area,change2, 'bo', markersize = 3)\n",
    "axs[2].plot(gdf_tot.Area,change3, 'bo', markersize = 3)\n",
    "#fig, axs = plt.subplots(1,3, figsize=(9,4))\n",
    "\n",
    "mean1 = change1.mean()\n",
    "std1 = change1.std()\n",
    "mean2 = change2.mean()\n",
    "std2 = change2.std()\n",
    "mean3 = change3.mean()\n",
    "std3 = change3.std()\n",
    "\n",
    "#axs[0].text(mean1, plt.ylim()[1]*0.9, f'Mean: {mean1:.2f} $m^2$', ha='center', va='center', color='red')\n",
    "#plt.text(mean1, plt.ylim()[1]*0.85, f'Std: {std1:.2f} $m^2$', ha='center', va='center', color='red')\n",
    "\n",
    "legend_labels = [ f'Average: {mean1:.2f} %', f'std: {std1:.2f} $m^2$']\n",
    "axs[0].legend(labels=legend_labels, handlelength = 0)\n",
    "\n",
    "legend_labels = [ f'Average: {mean2:.2f} %', f'std: {std2:.2f} $m^2$']\n",
    "axs[1].legend(labels=legend_labels, handlelength = 0)\n",
    "legend_labels = [ f'Average: {mean3:.2f} %', f'std: {std3:.2f} $m^2$']\n",
    "axs[2].legend(labels=legend_labels, handlelength = 0)\n",
    "\n",
    "axs[0].set_title('simplified 1')\n",
    "axs[1].set_title('simplified 5')\n",
    "axs[2].set_title('simplified 10')\n",
    "\n",
    "plt.show()"
   ]
  },
  {
   "cell_type": "markdown",
   "id": "d4f0129d-3ca8-4eed-8e35-08942d185b3b",
   "metadata": {},
   "source": [
    "## Correlation plots"
   ]
  },
  {
   "cell_type": "markdown",
   "id": "5b90127e-9fca-448c-b1fb-f3ecd7838838",
   "metadata": {},
   "source": [
    "correlate length of streets to simplified length"
   ]
  },
  {
   "cell_type": "code",
   "execution_count": null,
   "id": "fe2aa25d-520b-49e3-8c3f-8a2c905c76d1",
   "metadata": {},
   "outputs": [],
   "source": [
    "fig,axs = plt.subplots(1,3, figsize=(14,8))\n",
    "axs[0].plot(gdf_tot.Area, gdf_tot.SimpArea1, 'bo', markersize = 3)\n",
    "axs[1].plot(gdf_tot.Area, gdf_tot.SimpArea2, 'bo', markersize = 3)\n",
    "axs[2].plot(gdf_tot.Area, gdf_tot.SimpArea3, 'bo', markersize = 3)\n",
    "plt.title('area vs simplified area correlation')\n",
    "#ax.plot(range(max(gdf_tot.Area)),'r')\n",
    "for a in axs:\n",
    "    \n",
    "    lims = [\n",
    "        np.min([a.get_xlim(), a.get_ylim()]),  # min of both axes\n",
    "        np.max([a.get_xlim(), a.get_ylim()]),  # max of both axes\n",
    "    ]\n",
    "\n",
    "# now plot both limits against eachother\n",
    "    a.plot(lims, lims, 'k-', alpha=0.75, zorder=0)\n",
    "    a.set_aspect('equal')\n",
    "    a.set_xlim(lims)\n",
    "    a.set_ylim(lims)\n",
    "for a in axs:\n",
    "    \n",
    " a.set_xlabel('area')\n",
    "axs[0].set_title('simplify(1)')\n",
    "axs[1].set_title('simplify(5)')\n",
    "axs[2].set_title('simplify(10)')\n",
    "\n",
    "plt.show()"
   ]
  },
  {
   "cell_type": "markdown",
   "id": "48e54812-381e-4809-940d-ede9e786e6bd",
   "metadata": {},
   "source": [
    "Simplifying tends to overestimate area"
   ]
  },
  {
   "cell_type": "code",
   "execution_count": null,
   "id": "62921a59-b02c-4273-bbb6-76ca7a4a2197",
   "metadata": {},
   "outputs": [],
   "source": [
    "fig,axs = plt.subplots(1,3, figsize=(8,8))\n",
    "axs[0].plot(gdf_tot.Perimeter, gdf_tot.SimpPeri1, 'bo', markersize = 3)\n",
    "axs[1].plot(gdf_tot.Perimeter, gdf_tot.SimpPeri2, 'bo', markersize = 3)\n",
    "axs[2].plot(gdf_tot.Perimeter, gdf_tot.SimpPeri3, 'bo', markersize = 3)\n",
    "#ax.plot(range(max(gdf_tot.Area)),'r')\n",
    "for a in axs:\n",
    "    \n",
    "    lims = [\n",
    "        np.min([a.get_xlim(), a.get_ylim()]),  # min of both axes\n",
    "        np.max([a.get_xlim(), a.get_ylim()]),  # max of both axes\n",
    "    ]\n",
    "\n",
    "# now plot both limits against eachother\n",
    "    a.plot(lims, lims, 'k-', alpha=0.75, zorder=0)\n",
    "    a.set_aspect('equal')\n",
    "    a.set_xlim(lims)\n",
    "    a.set_ylim(lims)\n",
    "    a.set_xlabel('perimeter')\n",
    "axs[0].set_title('simplify(1)')\n",
    "axs[1].set_title('simplify(5)')\n",
    "axs[2].set_title('simplify(10)')\n",
    "plt.show()"
   ]
  },
  {
   "cell_type": "markdown",
   "id": "efdca8b9-8047-49e5-b170-8a30ab0cd070",
   "metadata": {},
   "source": [
    "simplifying has little effects on perimeter."
   ]
  },
  {
   "cell_type": "markdown",
   "id": "1dad3f69-7251-4441-a168-e4b1b927957c",
   "metadata": {},
   "source": [
    "### Average width calculation: \n",
    "Area is length times width for rectangles\n",
    "Perimeter is 2(length) + 2(width)\n",
    "$A = lw$\n",
    "$P = 2l+2w$\n",
    "brings us to solve for width as   \n",
    "\n",
    "$P = 2\\frac{A}{w}+2w$ \n",
    "so  \n",
    "$w^2 -\\frac{P}{2}w+A = 0$"
   ]
  },
  {
   "cell_type": "code",
   "execution_count": null,
   "id": "97cc0135-3cf9-4828-925d-72953070de91",
   "metadata": {},
   "outputs": [],
   "source": [
    "gdf_tot['temp'] = gdf_tot.Area/gdf_tot.Area # create column of ones\n",
    "gdf_tot['SemiPeri'] = -gdf_tot.Perimeter/2 # i need it negative for the equation\n",
    "\n",
    "def calculate_roots(row):\n",
    "    coefficients = row[['temp', 'SemiPeri', 'Area']].values\n",
    "    roots = np.roots(coefficients).real\n",
    "    return roots\n",
    "\n",
    "#gdf_tot['roots'] = gdf_tot.apply(calculate_roots, axis=1)\n",
    "gdf_tot['roots'] = gdf_tot[['temp', 'SemiPeri', 'Area']].apply(calculate_roots, axis=1)\n",
    "gdf_tot[['root1', 'root2']] = pd.DataFrame(gdf_tot['roots'].tolist(), index=gdf_tot.index)\n",
    "gdf_tot['width'] = gdf_tot['root2']\n",
    "gdf_tot = gdf_tot.drop(['Perimeter', 'Area', 'temp', 'SemiPeri', 'roots', 'root2'], axis = 1)"
   ]
  },
  {
   "cell_type": "code",
   "execution_count": null,
   "id": "372fcdc5-6dce-44dc-bad1-c0c260b561f9",
   "metadata": {},
   "outputs": [],
   "source": [
    "gdf_tot.width.hist(bins = np.linspace(0,30,100))\n",
    "plt.title('Width distribution of roads in Milan')\n",
    "plt.xlabel('Width (meters)')\n",
    "plt.ylabel('Counts')\n",
    "plt.show()"
   ]
  },
  {
   "cell_type": "markdown",
   "id": "1d8b25e5-6794-4f90-91d0-2ac13fc77af9",
   "metadata": {},
   "source": [
    "## Visualization"
   ]
  },
  {
   "cell_type": "markdown",
   "id": "20de9448-b526-4d83-8886-6dc0c1dc5a71",
   "metadata": {},
   "source": [
    "Various visualizations of our data"
   ]
  },
  {
   "cell_type": "code",
   "execution_count": null,
   "id": "018978b9-2a7d-4cd6-8e1a-2068b621d7f2",
   "metadata": {},
   "outputs": [],
   "source": [
    "y = gdf_tot[gdf_tot.TYPE.str.startswith('01')]\n",
    "ax = y.plot(figsize=(10, 10), alpha=0.5, edgecolor=\"blue\")\n",
    "z = gdf_tot[gdf_tot.TYPE.str.startswith('02')]\n",
    "z.plot(ax=ax, edgecolor = 'red')\n",
    "cx.add_basemap(ax, crs=y.crs, zoom = 13, source=cx.providers.CartoDB.Positron) #providers.Esri.WorldImagery for satellite\n",
    "plt.show()"
   ]
  },
  {
   "cell_type": "markdown",
   "id": "0c25fa57-5093-4130-93ff-cd057dc59309",
   "metadata": {},
   "source": [
    "### Color map plot:\n",
    "use column =  in gdf plot method to colormap based on value of column\n"
   ]
  },
  {
   "cell_type": "code",
   "execution_count": null,
   "id": "d8d1b773-e5f5-4c9e-b8a8-d16aab79aa41",
   "metadata": {},
   "outputs": [],
   "source": [
    "plt.close('all')"
   ]
  },
  {
   "cell_type": "code",
   "execution_count": null,
   "id": "0e71dc60-7d8a-48b0-a149-9514fc1ae73e",
   "metadata": {},
   "outputs": [],
   "source": [
    "fig, ax = plt.subplots(1,1, figsize=(12,12))\n",
    "gdf_tot.plot(ax = ax, cmap = 'viridis', column = 'width', legend = True, vmin = 5, vmax = 30 )\n",
    "cx.add_basemap(ax, crs=gdf_tot.crs, source=cx.providers.Esri.WorldImagery, alpha =0.3) #providers.Esri.WorldImagery for satellite\n",
    "plt.show()"
   ]
  },
  {
   "cell_type": "code",
   "execution_count": null,
   "id": "45916190-4e93-425f-9cc2-7e3f67deec8a",
   "metadata": {},
   "outputs": [],
   "source": [
    "for split in [5, 10, 15, 20]:\n",
    "    fig, axes = plt.subplots(1,2, figsize=(16,8))\n",
    "    gdf1 = gdf_roads_piaz[gdf_roads_piaz['root2'] <= split]\n",
    "    gdf2 = gdf_roads_piaz[gdf_roads_piaz['root2'] > split]\n",
    "    ax = axes[0]\n",
    "    gdf1.plot(ax = ax, cmap = 'viridis',column = 'root2', legend = True, vmin = 1, vmax = 20 )\n",
    "    ax.set_title('Smaller streets')\n",
    "    ax = axes[1]\n",
    "    gdf2.plot(ax = ax, cmap = 'viridis',column = 'root2', legend = True, vmin = 5, vmax = 30 )\n",
    "    # cx.add_basemap(ax, crs=gdf2.crs, source=cx.providers.Esri.WorldImagery, alpha =0.3) #providers.Esri.WorldImagery for satellite\n",
    "    ax.set_title('Larger streets')\n",
    "    fig.suptitle('Threshold ' + repr(split) + ' meters')\n",
    "    plt.show()"
   ]
  },
  {
   "cell_type": "markdown",
   "id": "cddbe926-6967-47f0-a94f-03c96dbca617",
   "metadata": {},
   "source": [
    "### Adding zones with sjoin\n",
    "let's try and get a better division into zones, to have more in depth plots"
   ]
  },
  {
   "cell_type": "code",
   "execution_count": null,
   "id": "283caf3a-6e1a-439b-a17e-adca74da4154",
   "metadata": {},
   "outputs": [],
   "source": [
    "administrative_path = \"C:/Users/rickb/Documents/scuola/THESIS/datasets/Milan/DBT_2020_new/DBT 2020 - SHAPE/Municipi.shp\"\n",
    "gdf2 = gpd.read_file(administrative_path)"
   ]
  },
  {
   "cell_type": "code",
   "execution_count": null,
   "id": "cb00d17b-e4d5-4820-b14d-a0cce6e79b48",
   "metadata": {},
   "outputs": [],
   "source": [
    "fig, ax = plt.subplots(1,1, figsize = (8,8))\n",
    "gdf2.plot(ax = ax, alpha = 0.1, edgecolor = 'black')\n",
    "gdf2 = gdf2.to_crs(epsg = OSM_crs)\n",
    "cx.add_basemap(ax, crs=gdf_tot.crs, source=cx.providers.CartoDB.Positron, alpha =1) #providers.Esri.WorldImagery for satellite\n",
    "plt.show()"
   ]
  },
  {
   "cell_type": "code",
   "execution_count": null,
   "id": "59a1cc9c-1754-43df-8d5a-07698a8edfa6",
   "metadata": {},
   "outputs": [],
   "source": [
    "gdf2"
   ]
  },
  {
   "cell_type": "code",
   "execution_count": null,
   "id": "fefa7c2f-3bc0-4f59-8eeb-189ca80a0bce",
   "metadata": {},
   "outputs": [],
   "source": [
    "from geopandas.tools import sjoin"
   ]
  },
  {
   "cell_type": "code",
   "execution_count": null,
   "id": "834b83ef-4643-4736-b031-32dda0c98c6d",
   "metadata": {},
   "outputs": [],
   "source": [
    "gdf_zone_tot = gdf_tot.sjoin(gdf2, how = 'inner',predicate = 'intersects') # requires gpd > 0.9\n",
    "\n",
    "#gdf_zone = gpd.sjoin(gdf_roads_piaz, gdf2, how = 'inner', op = 'intersects') #is equivalent, with older syntax\n",
    "\n",
    "gdf_zone_tot = gdf_zone_tot.drop(['SimpArea1', 'SimpArea2','SimpArea3', 'SimpPeri1', 'SimpPeri2', 'SimpPeri3', 'index_right'], axis =1)"
   ]
  },
  {
   "cell_type": "markdown",
   "id": "8c52a3fb-6703-4f5c-9350-b303b701002c",
   "metadata": {},
   "source": [
    "We can also add neighborhoods to our subdivisions"
   ]
  },
  {
   "cell_type": "code",
   "execution_count": null,
   "id": "ddcccba2-b899-47d1-86ed-e1d7dd3e3850",
   "metadata": {},
   "outputs": [],
   "source": [
    "neighborhood_path = \"C:/Users/rickb/Documents/scuola/THESIS/datasets/Milan/Quartieri milano_real/NIL_WM.shp\"\n",
    "gdf_N = gpd.read_file(neighborhood_path)\n",
    "gdf_N = gdf_N.to_crs(epsg = OSM_crs)\n",
    "gdf_N = gdf_N.drop(['Valido_dal', 'Fonte', 'Shape_Leng', 'Shape_Area', 'OBJECTID', 'Valido_al'] ,axis=1)\n",
    "\n",
    "\n",
    "gdf_N_tot = gdf_zone_tot.sjoin(gdf_N, how = 'inner',predicate = 'intersects')\n",
    "gdf_N_tot = gdf_N_tot.drop(['index_right'], axis = 1)\n"
   ]
  },
  {
   "cell_type": "code",
   "execution_count": null,
   "id": "bf7b13d1-5115-42ee-b1a7-87a11ca95751",
   "metadata": {},
   "outputs": [],
   "source": [
    "fig, ax = plt.subplots(1,1, figsize = (8,8))\n",
    "gdf_N.plot(ax = ax, alpha = 0.1, edgecolor = 'black')\n",
    "gdf_N = gdf_N.to_crs(epsg = OSM_crs)\n",
    "cx.add_basemap(ax, crs=gdf_N.crs, source=cx.providers.CartoDB.Positron, alpha =1) #providers.Esri.WorldImagery for satellite\n",
    "plt.show()"
   ]
  },
  {
   "cell_type": "markdown",
   "id": "e9833f14-a549-4a04-ab53-858bf8936061",
   "metadata": {},
   "source": [
    "Finally, let's split our main dataframe into two: one with only roads, and one with only intersections.\n"
   ]
  },
  {
   "cell_type": "code",
   "execution_count": null,
   "id": "98a439cd-531e-4f41-b152-b126239ef30d",
   "metadata": {},
   "outputs": [],
   "source": [
    "pattern2 = ('01')\n",
    "pattern3 = ('02') \n",
    "gdf_no_int = gdf_N_tot[gdf_tot.TYPE.str.startswith(pattern2)]\n",
    "gdf_int = gdf_N_tot[gdf_tot.TYPE.str.startswith(pattern3)]"
   ]
  },
  {
   "cell_type": "code",
   "execution_count": null,
   "id": "ec38e87d-3369-4509-bc6f-3acbe8312ee2",
   "metadata": {},
   "outputs": [],
   "source": [
    "#Now isolate an example neighborhood\n",
    "gdf_N_Stadera = gdf_N_tot[gdf_N_tot['NIL'] == 'STADERA - CHIESA ROSSA - Q.RE TORRETTA - CONCA FALLATA']\n",
    "gdf_int_Stadera = gdf_int[gdf_int['NIL'] == 'STADERA - CHIESA ROSSA - Q.RE TORRETTA - CONCA FALLATA']\n",
    "gdf_no_int_Stadera = gdf_no_int[gdf_no_int['NIL'] == 'STADERA - CHIESA ROSSA - Q.RE TORRETTA - CONCA FALLATA']\n",
    "#and a single street in that neighborhood\n",
    "gdf_N_Volv = gdf_N_Stadera[gdf_N_Stadera['NAME'] == 'VIA VOLVINIO']\n",
    "gdf_no_int_Volv = gdf_no_int[gdf_no_int['NAME'] == 'VIA VOLVINIO']\n",
    "gdf_int_Volv = gdf_int[gdf_int['NAME'] == 'VIA VOLVINIO']\n"
   ]
  },
  {
   "cell_type": "markdown",
   "id": "0ea31c74-6eb2-4ec0-81ae-6ddb0b874f53",
   "metadata": {},
   "source": [
    "Here's an example plot of a neighborhood:"
   ]
  },
  {
   "cell_type": "code",
   "execution_count": null,
   "id": "9b80c8ac-ec52-44c4-8dc6-484aad637d2d",
   "metadata": {},
   "outputs": [],
   "source": [
    "fig, ax = plt.subplots(1,1, figsize = (8,8))\n",
    "gdf_N_Stadera.plot(ax = ax, alpha = 0.5)\n",
    "cx.add_basemap(ax, crs=gdf_N.crs, zoom = 15, source=cx.providers.CartoDB.Positron) #providers.Esri.WorldImagery for satellite\n",
    "#source=cx.providers.CartoDB.Positron)\n",
    "plt.title(\"The Stadera Neighborhood of Milan\")\n",
    "plt.show()"
   ]
  },
  {
   "cell_type": "markdown",
   "id": "82093bad-74c8-476c-8c9a-19d2fd487962",
   "metadata": {},
   "source": [
    "## Creating custom ranges by distance\n",
    "\n",
    "Here's a function to create a Geodataframe with all roads within a given distance from the road given as input"
   ]
  },
  {
   "cell_type": "code",
   "execution_count": null,
   "id": "125c218d-b5a0-44ee-b4cb-fca219a1c028",
   "metadata": {},
   "outputs": [],
   "source": [
    "def within_dist(street, dist, gdf):\n",
    "    #function creates geodataframe with all streets of gdf within distance dist (in meters) of street.\n",
    "    #street is a geodataframe, dist is a positive number, and gdf is the geodataframe dataset.\n",
    "    temp = street.copy()\n",
    "    temp.geometry = temp.geometry.buffer(dist)\n",
    "    temp = temp.filter(['geometry']) #so sjoin doesn't give suffixes and i don't have to rename later\n",
    "    gdf_distanced = gdf.sjoin(temp, how='inner', predicate='intersects')\n",
    "    gdf_distanced = gdf_distanced.dropna()\n",
    "    gdf_distanced = gdf_distanced.drop_duplicates(subset=['width'], keep='first') #removes streets within 2 buffers of a polygon\n",
    "    gdf_distanced = gdf_distanced.iloc[:,:-1] #drops index_R column\n",
    "    return gdf_distanced"
   ]
  },
  {
   "cell_type": "code",
   "execution_count": null,
   "id": "5366d995-42bd-4a83-a9c9-6d71638503d1",
   "metadata": {},
   "outputs": [],
   "source": [
    "M = 100\n",
    "gdf_test = within_dist(gdf_N_Volv, M, gdf_tot)\n"
   ]
  },
  {
   "cell_type": "code",
   "execution_count": null,
   "id": "ea5fa448-be53-47fe-b8f8-9e6fb2b21658",
   "metadata": {},
   "outputs": [],
   "source": [
    "fig, ax = plt.subplots(1,1, figsize = (8,8))\n",
    "\n",
    "gdf_test.plot(ax = ax, alpha = 0.5)\n",
    "cx.add_basemap(ax, crs=gdf_N.crs, zoom = 15, source=cx.providers.CartoDB.Positron) #providers.Esri.WorldImagery for satellite\n",
    "plt.title(f\"roads within {M} meters from Via Volvinio\")\n",
    "plt.show()"
   ]
  },
  {
   "cell_type": "markdown",
   "id": "a1018fb5-074e-4cc3-8514-785516b2dbdc",
   "metadata": {},
   "source": [
    "Let's try to plot roads color-coding by width"
   ]
  },
  {
   "cell_type": "code",
   "execution_count": null,
   "id": "89a35390-8413-45dd-8745-0397a4c4d62c",
   "metadata": {},
   "outputs": [],
   "source": [
    "fig, ax = plt.subplots(1,1, figsize=(8,8))\n",
    "gdf_test.plot(ax = ax, cmap = 'viridis', column = 'width', legend = True, vmin = 1, vmax = 30 )\n",
    "cx.add_basemap(ax, crs=gdf_test.crs, source=cx.providers.Esri.WorldImagery, alpha =0.3) #providers.Esri.WorldImagery for satellite\n",
    "plt.title(f\"roads within {M} meters from Via Volvinio \\n color coded by width\")\n",
    "plt.show()"
   ]
  },
  {
   "cell_type": "markdown",
   "id": "9567bf5f-5416-4bf6-b80c-f08b03f229d6",
   "metadata": {},
   "source": [
    "# The Network\n",
    "It should be pretty straightforward: make intersections the nodes, and make roads the edges. road width are the weights. \n",
    "However, there is a problem with what exactly it means to be an intersection.\n",
    "NB for now we will consider all streets in the manner which is most convenient, i.e as two-way streets, unless otherwise specified.\n",
    "### Examining intersections\n",
    "Let's examine the case of a relatively simple street, Via Volvinio\n",
    "\n"
   ]
  },
  {
   "cell_type": "code",
   "execution_count": null,
   "id": "c174a1bb-5324-470f-b505-cb1faf4a8fe9",
   "metadata": {},
   "outputs": [],
   "source": [
    "fig, ax = plt.subplots(1,1, figsize = (6,6))\n",
    "\n",
    "gdf_no_int_Volv.plot(ax = ax, alpha = 0.5)\n",
    "cx.add_basemap(ax, crs=gdf_N.crs, zoom = 17, source=cx.providers.CartoDB.Positron) #providers.Esri.WorldImagery for satellite\n",
    "plt.show()"
   ]
  },
  {
   "cell_type": "markdown",
   "id": "e1cd35aa-668b-436c-a877-2cb844bfb964",
   "metadata": {},
   "source": [
    "The upper part of the street divides in two, because of a barrier, then there is a blank space (considered an intersection), even though the road continues onwards without being intersected. how should this be considered? a new node seems excessive, but then what can we do? maybe after the fact i can say that that node must be eliminated since it connects to only two roads, one of which with a double connection?"
   ]
  },
  {
   "cell_type": "code",
   "execution_count": null,
   "id": "641c205a-d61c-4736-afff-80caccf2fdc0",
   "metadata": {},
   "outputs": [],
   "source": [
    "fig, ax = plt.subplots(1,1, figsize = (6,6))\n",
    "\n",
    "gdf_N_Volv.plot(ax = ax, column = 'TYPE', alpha = 0.5)\n",
    "cx.add_basemap(ax, crs=gdf_N.crs, zoom = 17, source=cx.providers.CartoDB.Positron) #providers.Esri.WorldImagery for satellite\n",
    "plt.show()"
   ]
  },
  {
   "cell_type": "markdown",
   "id": "57729892-fa5f-46db-96a2-75312d1b0544",
   "metadata": {},
   "source": [
    "According to our pdf document, 0205 corresponds to \"incrocio\". I guess it's ok to consider it as such."
   ]
  },
  {
   "cell_type": "markdown",
   "id": "b8d2b110-e002-445d-b52b-98ac626b85ca",
   "metadata": {},
   "source": [
    "## Actually trying to create the network"
   ]
  },
  {
   "cell_type": "markdown",
   "id": "fee85cb7-3fad-40ac-bbf3-abed8149dd47",
   "metadata": {},
   "source": [
    "remember, my network has:\n",
    "- intersections as nodes.\n",
    "- the actual roads as edges.\n",
    "- their width and name will be weights/edge attributes.\n"
   ]
  },
  {
   "cell_type": "markdown",
   "id": "6d4f6d39-45a4-4f82-a104-227cbda74203",
   "metadata": {},
   "source": [
    "To find the edges of the network, we take an intersection and use the within_dist function with a distance = 1 to find\n",
    "all roads that are immediately adjacent to the intersection. \n",
    "These are the \"stubs\" of our graph, i.e lines that connect to a node and nothing else.  \n",
    "When we do this for all intersection, the edges of the network will simply be the common stubs between pairs of nodes.  \n",
    "Our road network will be a MultiGraph, because some intersections may be connected by two or more different roads."
   ]
  },
  {
   "cell_type": "code",
   "execution_count": null,
   "id": "cdeeaeea-e2ca-4f1f-9957-4c6edd3f956f",
   "metadata": {},
   "outputs": [],
   "source": [
    "#we define a variation of the within_dist function. This one keeps duplicate entries because they are useful for finding stubs.\n",
    "\n",
    "def within_dist_dupes(street, dist, gdf):\n",
    "    #function creates geodataframe with all streets of gdf within distance dist (in meters) of street.\n",
    "    #street is a geodataframe, dist is a positive number, and gdf is the geodataframe dataset.\n",
    "    temp = street.copy()\n",
    "    temp.geometry = temp.geometry.buffer(dist)\n",
    "    temp = temp.filter(['geometry']) #so sjoin doesn't give suffixes and i don't have to rename later\n",
    "    gdf_distanced = gdf.sjoin(temp, how='inner', predicate='intersects')\n",
    "    gdf_distanced = gdf_distanced.dropna()\n",
    "    return gdf_distanced"
   ]
  },
  {
   "cell_type": "markdown",
   "id": "87a7aafe-1699-416c-9493-89acd4c6ecc4",
   "metadata": {},
   "source": [
    "#we define a variation of the within_dist function. This one keeps duplicate entries because they are useful for finding stubs.\n",
    "\n",
    "def within_dist_dupes(street, dist, gdf):\n",
    "    #function creates geodataframe with all streets of gdf within distance dist (in meters) of street.\n",
    "    #street is a geodataframe, dist is a positive number, and gdf is the geodataframe dataset.\n",
    "    temp = street.copy()\n",
    "    temp.geometry = temp.geometry.buffer(dist)\n",
    "    temp = temp.filter(['geometry']) #so sjoin doesn't give suffixes and i don't have to rename later\n",
    "    gdf_distanced = gdf.sjoin(temp, how='inner', predicate='intersects')\n",
    "    gdf_distanced = gdf_distanced.dropna()\n",
    "    return gdf_distanced"
   ]
  },
  {
   "cell_type": "code",
   "execution_count": null,
   "id": "68328cf2-b3a1-4e31-b982-6cd9607c9cf3",
   "metadata": {},
   "outputs": [],
   "source": [
    "def make_edges(gdf_tot):\n",
    "    #takes dataset with roads and intersections, creates edgelist of nodes with weights of edges\n",
    "    pattern1, pattern2 = '01', '02'\n",
    "    no_ints = gdf_tot[gdf_tot.TYPE.str.startswith(pattern1)]\n",
    "    ints = gdf_tot[gdf_tot.TYPE.str.startswith(pattern2)]\n",
    "    #we need indices from 0 --> reset\n",
    "    ints.reset_index(inplace = True, drop = True)\n",
    "    no_ints.reset_index(inplace = True, drop = True)\n",
    "    stubs = within_dist_dupes(ints, 1, no_ints) #all stubs, i.e all roads connected to all nodes\n",
    "    grouped = stubs.groupby('index_right') #one dataframe for each node\n",
    "    edges = {} # will contain intersections of each node \n",
    "    edge_list = pd.DataFrame(columns = ['from','to','weight'])\n",
    "    for node, group in grouped:\n",
    "        stubs = stubs[stubs['index_right'] != node] #removing \"self\" from gdf that we will merge onto, to avoid self connections. also removes redundancies  \n",
    "        edges[node] = pd.merge(group,stubs, on = 'ID', how = 'inner')\n",
    "        edge_list_temp = pd.DataFrame({'from': edges[node].index_right_x, 'to': edges[node].index_right_y, 'weight': edges[node].width_x})\n",
    "        edge_list = pd.concat([edge_list,edge_list_temp])\n",
    "    return edge_list\n",
    "#now edges should be a dictionary where each key will have only the nodes it is connected to as values.\n",
    "#the final step would be to make a list where each key is "
   ]
  },
  {
   "cell_type": "code",
   "execution_count": null,
   "id": "564a3a58-d59b-46d2-ac2f-b4f3244d591b",
   "metadata": {},
   "outputs": [],
   "source": [
    "edge_list_t = make_edges(gdf_N_Stadera)\n",
    "G = nx.from_pandas_edgelist(edge_list_t, 'from', 'to', edge_attr=[\"weight\"] , create_using=nx.MultiGraph())"
   ]
  },
  {
   "cell_type": "code",
   "execution_count": null,
   "id": "4e57d112-9316-4fac-9c68-566d325c29f6",
   "metadata": {},
   "outputs": [],
   "source": [
    "edge_list_t.head(-10) "
   ]
  },
  {
   "cell_type": "markdown",
   "id": "2fc3ce3f-e723-4320-b672-1add248b9f35",
   "metadata": {},
   "source": [
    "The first two nodes have several connections to a single other node because they are kind of strange, peripheral roads.  \n",
    "I don't think this is a problem in general, considering most roads are well behaved."
   ]
  },
  {
   "cell_type": "code",
   "execution_count": null,
   "id": "ce112829-529e-4e56-80cd-ad43f4d2315f",
   "metadata": {},
   "outputs": [],
   "source": [
    "temp = gdf_N_Stadera[gdf_N_Stadera.NAME == 'VIA DEL MARE']\n",
    "t = within_dist(temp, 5, gdf_N_Stadera)\n",
    "fig, ax = plt.subplots(1,1, figsize = (6,6))\n",
    "t.plot(ax = ax, column = 'NAME', alpha = 0.5)\n",
    "cx.add_basemap(ax, crs=gdf_N.crs, zoom = 16, source=cx.providers.CartoDB.Positron) #providers.Esri.WorldImagery for satellite\n",
    "plt.title('roads with multiple connections between each other')\n",
    "plt.show()"
   ]
  },
  {
   "cell_type": "code",
   "execution_count": null,
   "id": "7c17788c-1dfd-44a7-8bc8-c2e97b3b7559",
   "metadata": {},
   "outputs": [],
   "source": [
    "pos = nx.random_layout(G)\n",
    "nx.draw_networkx_nodes(G, pos, node_color = 'r', node_size = 100, alpha = 1)\n",
    "ax = plt.gca()\n",
    "for e in G.edges:\n",
    "    ax.annotate(\"\",\n",
    "                xy=pos[e[0]], xycoords='data',\n",
    "                xytext=pos[e[1]], textcoords='data',\n",
    "                arrowprops=dict(arrowstyle=\"-\", color=\"0.5\",\n",
    "                                shrinkA=5, shrinkB=5,\n",
    "                                patchA=None, patchB=None,\n",
    "                                connectionstyle=\"arc3,rad=rrr\".replace('rrr',str(0.3*e[2])\n",
    "                                ),\n",
    "                                ),\n",
    "                )\n",
    "plt.axis('off')\n",
    "plt.show()"
   ]
  },
  {
   "cell_type": "markdown",
   "id": "fbcbdb35-eb36-4126-9f60-38611910e66f",
   "metadata": {},
   "source": [
    "# Network with OSMnx package\n",
    "\n",
    "to be completed"
   ]
  },
  {
   "cell_type": "markdown",
   "id": "203e7396-38b4-4ac3-a119-a4045d06d196",
   "metadata": {},
   "source": [
    "## Pedestrian Access network\n",
    "We can also visualize and work with the pedestrian network. This is more than just sidewalks, it's all pedestrian exclusive zones "
   ]
  },
  {
   "cell_type": "code",
   "execution_count": null,
   "id": "bdac8217-2782-47e8-bd86-2953b8bb4f49",
   "metadata": {},
   "outputs": [],
   "source": [
    "pedestrian_path = \"C:/Users/rickb/Documents/scuola/THESIS/datasets/Milan/DBT_2020/SHAPE/AC_PED_AC_PED_SUP_SR.shp\"\n",
    "gdf2 = gpd.read_file(shapefile_path)"
   ]
  },
  {
   "cell_type": "code",
   "execution_count": null,
   "id": "52e49b55-924d-43f6-8e32-f1e5e0852d06",
   "metadata": {},
   "outputs": [],
   "source": [
    "gdf2_crs = gdf2[gdf2['AC_PED_ZON'] != '03'].to_crs(epsg=4326) #removing pedestrian islands in the middle of roads. useless for mobility"
   ]
  },
  {
   "cell_type": "markdown",
   "id": "b9ef59d9-9542-4606-b1cd-8a9fa67fa1f9",
   "metadata": {},
   "source": [
    "## Cycling access network"
   ]
  },
  {
   "cell_type": "code",
   "execution_count": null,
   "id": "a6a4774b-e658-454b-af2d-5ff1c5f1132d",
   "metadata": {},
   "outputs": [],
   "source": [
    "bicycle_path = \"C:/Users/rickb/Documents/scuola/THESIS/datasets/Milan/DBT_2020/SHAPE/AC_PED_AC_PED_SUP_SR.shp\"\n",
    "gdf3 = gpd.read_file(shapefile_path)"
   ]
  },
  {
   "cell_type": "code",
   "execution_count": null,
   "id": "477c506c-ab32-4151-ab8f-113d81d80951",
   "metadata": {},
   "outputs": [],
   "source": [
    "gdf3"
   ]
  },
  {
   "cell_type": "markdown",
   "id": "49fae05c-4341-4587-b60e-546de0b831b4",
   "metadata": {},
   "source": [
    "## Tram infrastructure network"
   ]
  },
  {
   "cell_type": "code",
   "execution_count": null,
   "id": "46875255-f642-4ad5-8ce8-e321a5dc16b3",
   "metadata": {},
   "outputs": [],
   "source": []
  }
 ],
 "metadata": {
  "kernelspec": {
   "display_name": "Python 3 (ipykernel)",
   "language": "python",
   "name": "python3"
  },
  "language_info": {
   "codemirror_mode": {
    "name": "ipython",
    "version": 3
   },
   "file_extension": ".py",
   "mimetype": "text/x-python",
   "name": "python",
   "nbconvert_exporter": "python",
   "pygments_lexer": "ipython3",
   "version": "3.12.1"
  }
 },
 "nbformat": 4,
 "nbformat_minor": 5
}
